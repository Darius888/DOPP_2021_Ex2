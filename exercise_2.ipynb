{
 "cells": [
  {
   "cell_type": "markdown",
   "metadata": {
    "deletable": false,
    "editable": false,
    "nbgrader": {
     "cell_type": "markdown",
     "checksum": "a7522a607648f8d862df009d619945d6",
     "grade": false,
     "grade_id": "cell-f3edff376e95832e",
     "locked": true,
     "schema_version": 3,
     "solution": false,
     "task": false
    }
   },
   "source": [
    "# DOPP 2021W Exercise 2\n",
    "\n",
    "### Before you get started, please read the instructions in this notebook carefully."
   ]
  },
  {
   "cell_type": "markdown",
   "metadata": {
    "deletable": false,
    "editable": false,
    "hidden": true,
    "nbgrader": {
     "cell_type": "markdown",
     "checksum": "c1840af6c537e1462cd13667f9563944",
     "grade": false,
     "grade_id": "cell-3e8baa003bd25109",
     "locked": true,
     "schema_version": 3,
     "solution": false,
     "task": false
    }
   },
   "source": [
    "## Preliminaries\n",
    "\n",
    "- Please use only Python **version 3.6 or higher**. It is recommended to run the notebook on the JupyterHub. \n",
    "\n",
    "\n",
    "- This notebook will be scored using [nbgrader](https://nbgrader.readthedocs.io/en/stable/index.html). \n",
    "- Please use the code stubs provided, add and modify your code only at the provided markers, do not rename any functions. \n",
    "- Make sure that your assignment executes without any errors on the JupyterHub before submitting it. Submissions that do not execute will not be accepted.\n",
    "- Do not change cell tags, as this may mess up the Validation and auto-grading features.\n",
    "\n",
    "\n",
    "The submission deadline is **29.11.2021 23:55.**\n",
    "\n",
    "Sections marked with `# YOUR CODE HERE` must be used to implement the functionality.\n",
    "Cells containing `YOUR ANSWER HERE` must be used to fill in textual answers.\n",
    "\n",
    "There is a total of 100 points that can be reached.\n",
    "\n",
    "You might be awarded additional points for **good code quality**."
   ]
  },
  {
   "cell_type": "code",
   "execution_count": 1,
   "metadata": {
    "hidden": true
   },
   "outputs": [],
   "source": [
    "# Note: The only imports allowed are Python's standard library, pandas, numpy, scipy, matplotlib and scikit-learn\n",
    "import numpy as np\n",
    "import pandas as pd\n",
    "import glob\n",
    "import os\n",
    "import matplotlib.pyplot as plt\n",
    "import seaborn as sns\n",
    "\n",
    "# add imports as needed\n",
    "from sklearn.linear_model import LogisticRegression\n",
    "from sklearn.model_selection import train_test_split\n",
    "from sklearn import preprocessing\n",
    "from sklearn.metrics import r2_score, mean_squared_error\n",
    "from sklearn.feature_selection import SelectKBest, f_regression"
   ]
  },
  {
   "cell_type": "markdown",
   "metadata": {
    "deletable": false,
    "editable": false,
    "hidden": true,
    "nbgrader": {
     "cell_type": "markdown",
     "checksum": "b0fc827d83cba24ec3ab15cefaa70da8",
     "grade": false,
     "grade_id": "cell-4fdf20ffb0528689",
     "locked": true,
     "schema_version": 3,
     "solution": false,
     "task": false
    }
   },
   "source": [
    "## Goal\n",
    "\n",
    "In this exercise, you will \n",
    " * use `pandas` to read, prepare and transform data,\n",
    " * use `matplotlib` to visually analyse data,\n",
    " * use `scikit-learn` to build prediction models.\n",
    "\n",
    "\n",
    "The goal of this exercise is to model the relationship between weather observations and the prevalence of new influenza infections.\n",
    "\n",
    "To investigate a potential relationship, we will use two datasets:\n",
    " * hourly [weather observation data](https://dane.imgw.pl/#dane-archiwalne) in [Łódź](https://en.wikipedia.org/wiki/%C5%81%C3%B3d%C5%BA), Poland (2010-2020)\n",
    " * weekly reports on [new influenza infections](https://www.gov.pl/web/wsse-lodz/zachorowania-na-grype) in Łódź (2010-2021).\n",
    "\n",
    "The data to be used can be found in the subdirectory named `data`. \n",
    "\n",
    "To complete this exercise, you will have to:\n",
    "* prepare the data, which (at minimum) involves the following:\n",
    "    - handling missing values,\n",
    "    - handling outliers\n",
    "    - temporal alignment (i.e. convert hourly weather data to weekly data using appropriate aggregation functions and then merging with influenza data),\n",
    "* analyse the data:\n",
    "    - compare descriptive statistics,\n",
    "    - visually investigate the raw data to gain an understanding of the data, identify patterns, outliers etc.,\n",
    "    - look at the relationship between the variables of interest,\n",
    "* model the relationship:\n",
    "    - fit a model that predicts new infections from weather observation data.\n",
    "    \n",
    "    \n",
    "**Note:** In case you encounter problems with loading and processing the data (tasks 1-5), we will provide you also with a pickled version of preprocessed and merged datasets that you can use to complete the remaining parts of the exercise (tasks 6-8)."
   ]
  },
  {
   "cell_type": "markdown",
   "metadata": {
    "deletable": false,
    "editable": false,
    "nbgrader": {
     "cell_type": "markdown",
     "checksum": "afada0bb29398d554d55969820fd4f85",
     "grade": false,
     "grade_id": "cell-92513ae578424a6a",
     "locked": true,
     "schema_version": 3,
     "solution": false,
     "task": false
    }
   },
   "source": [
    "## Task 0: Data Examination\n",
    "\n",
    "Maximum number of *extra* points for this task: **5**\n",
    "\n",
    "- This is an open task, where you are free to show all the data examination and experimentations preceeding actual work on the assignment\n",
    "- You can also include some preliminary plots and analysis of the data content which you used to solve remaining tasks\n",
    "- You can create additional cells for this task\n"
   ]
  },
  {
   "cell_type": "markdown",
   "metadata": {
    "deletable": false,
    "nbgrader": {
     "cell_type": "code",
     "checksum": "dae8e726bcc9188d84a7edd1f23f8dda",
     "grade": true,
     "grade_id": "cell-b9cbde78742c6896",
     "locked": false,
     "points": 0,
     "schema_version": 3,
     "solution": true,
     "task": false
    }
   },
   "source": [
    "### Weather data examination.\n",
    "#### Here I loaded all csv files into one dataframe. Checked missing values. Checked column types. "
   ]
  },
  {
   "cell_type": "code",
   "execution_count": 2,
   "metadata": {},
   "outputs": [
    {
     "name": "stderr",
     "output_type": "stream",
     "text": [
      "/opt/conda/lib/python3.9/site-packages/IPython/core/interactiveshell.py:3444: DtypeWarning: Columns (6,56) have mixed types.Specify dtype option on import or set low_memory=False.\n",
      "  exec(code_obj, self.user_global_ns, self.user_ns)\n",
      "/opt/conda/lib/python3.9/site-packages/IPython/core/interactiveshell.py:3444: DtypeWarning: Columns (34) have mixed types.Specify dtype option on import or set low_memory=False.\n",
      "  exec(code_obj, self.user_global_ns, self.user_ns)\n"
     ]
    },
    {
     "data": {
      "text/html": [
       "<div>\n",
       "<style scoped>\n",
       "    .dataframe tbody tr th:only-of-type {\n",
       "        vertical-align: middle;\n",
       "    }\n",
       "\n",
       "    .dataframe tbody tr th {\n",
       "        vertical-align: top;\n",
       "    }\n",
       "\n",
       "    .dataframe thead th {\n",
       "        text-align: right;\n",
       "    }\n",
       "</style>\n",
       "<table border=\"1\" class=\"dataframe\">\n",
       "  <thead>\n",
       "    <tr style=\"text-align: right;\">\n",
       "      <th></th>\n",
       "      <th>Station code</th>\n",
       "      <th>Station name</th>\n",
       "      <th>Year</th>\n",
       "      <th>Month</th>\n",
       "      <th>Day</th>\n",
       "      <th>Hour</th>\n",
       "      <th>Cloud base height CL CM encrypted [code]</th>\n",
       "      <th>Measurement status HPOD</th>\n",
       "      <th>Lower cloud base height  [m]</th>\n",
       "      <th>Measurement status HPON</th>\n",
       "      <th>...</th>\n",
       "      <th>Freshly fallen snow cover height [cm]</th>\n",
       "      <th>Measurement status HSS</th>\n",
       "      <th>Snow cover height in the plot [cm]</th>\n",
       "      <th>Measurement status GRSN</th>\n",
       "      <th>Snow type [code]</th>\n",
       "      <th>Shape of the cover [code]</th>\n",
       "      <th>Sample height [cm]</th>\n",
       "      <th>Measurement status HPRO</th>\n",
       "      <th>Sample weight [g]</th>\n",
       "      <th>Measurement status CIPR</th>\n",
       "    </tr>\n",
       "  </thead>\n",
       "  <tbody>\n",
       "    <tr>\n",
       "      <th>0</th>\n",
       "      <td>351190465</td>\n",
       "      <td>ŁÓDŹ</td>\n",
       "      <td>2011</td>\n",
       "      <td>1</td>\n",
       "      <td>1</td>\n",
       "      <td>0</td>\n",
       "      <td>3</td>\n",
       "      <td>NaN</td>\n",
       "      <td>270</td>\n",
       "      <td>NaN</td>\n",
       "      <td>...</td>\n",
       "      <td>0</td>\n",
       "      <td>8.0</td>\n",
       "      <td>0</td>\n",
       "      <td>8.0</td>\n",
       "      <td>NaN</td>\n",
       "      <td>NaN</td>\n",
       "      <td>0</td>\n",
       "      <td>8.0</td>\n",
       "      <td>0</td>\n",
       "      <td>8.0</td>\n",
       "    </tr>\n",
       "    <tr>\n",
       "      <th>1</th>\n",
       "      <td>351190465</td>\n",
       "      <td>ŁÓDŹ</td>\n",
       "      <td>2011</td>\n",
       "      <td>1</td>\n",
       "      <td>1</td>\n",
       "      <td>1</td>\n",
       "      <td>4</td>\n",
       "      <td>NaN</td>\n",
       "      <td>330</td>\n",
       "      <td>NaN</td>\n",
       "      <td>...</td>\n",
       "      <td>0</td>\n",
       "      <td>8.0</td>\n",
       "      <td>0</td>\n",
       "      <td>8.0</td>\n",
       "      <td>NaN</td>\n",
       "      <td>NaN</td>\n",
       "      <td>0</td>\n",
       "      <td>8.0</td>\n",
       "      <td>0</td>\n",
       "      <td>8.0</td>\n",
       "    </tr>\n",
       "    <tr>\n",
       "      <th>2</th>\n",
       "      <td>351190465</td>\n",
       "      <td>ŁÓDŹ</td>\n",
       "      <td>2011</td>\n",
       "      <td>1</td>\n",
       "      <td>1</td>\n",
       "      <td>2</td>\n",
       "      <td>4</td>\n",
       "      <td>NaN</td>\n",
       "      <td>300</td>\n",
       "      <td>NaN</td>\n",
       "      <td>...</td>\n",
       "      <td>0</td>\n",
       "      <td>8.0</td>\n",
       "      <td>0</td>\n",
       "      <td>8.0</td>\n",
       "      <td>NaN</td>\n",
       "      <td>NaN</td>\n",
       "      <td>0</td>\n",
       "      <td>8.0</td>\n",
       "      <td>0</td>\n",
       "      <td>8.0</td>\n",
       "    </tr>\n",
       "    <tr>\n",
       "      <th>3</th>\n",
       "      <td>351190465</td>\n",
       "      <td>ŁÓDŹ</td>\n",
       "      <td>2011</td>\n",
       "      <td>1</td>\n",
       "      <td>1</td>\n",
       "      <td>3</td>\n",
       "      <td>4</td>\n",
       "      <td>NaN</td>\n",
       "      <td>330</td>\n",
       "      <td>NaN</td>\n",
       "      <td>...</td>\n",
       "      <td>0</td>\n",
       "      <td>8.0</td>\n",
       "      <td>0</td>\n",
       "      <td>8.0</td>\n",
       "      <td>NaN</td>\n",
       "      <td>NaN</td>\n",
       "      <td>0</td>\n",
       "      <td>8.0</td>\n",
       "      <td>0</td>\n",
       "      <td>8.0</td>\n",
       "    </tr>\n",
       "    <tr>\n",
       "      <th>4</th>\n",
       "      <td>351190465</td>\n",
       "      <td>ŁÓDŹ</td>\n",
       "      <td>2011</td>\n",
       "      <td>1</td>\n",
       "      <td>1</td>\n",
       "      <td>4</td>\n",
       "      <td>4</td>\n",
       "      <td>NaN</td>\n",
       "      <td>400</td>\n",
       "      <td>NaN</td>\n",
       "      <td>...</td>\n",
       "      <td>0</td>\n",
       "      <td>8.0</td>\n",
       "      <td>0</td>\n",
       "      <td>8.0</td>\n",
       "      <td>NaN</td>\n",
       "      <td>NaN</td>\n",
       "      <td>0</td>\n",
       "      <td>8.0</td>\n",
       "      <td>0</td>\n",
       "      <td>8.0</td>\n",
       "    </tr>\n",
       "  </tbody>\n",
       "</table>\n",
       "<p>5 rows × 107 columns</p>\n",
       "</div>"
      ],
      "text/plain": [
       "   Station code Station name  Year  Month  Day  Hour  \\\n",
       "0     351190465         ŁÓDŹ  2011      1    1     0   \n",
       "1     351190465         ŁÓDŹ  2011      1    1     1   \n",
       "2     351190465         ŁÓDŹ  2011      1    1     2   \n",
       "3     351190465         ŁÓDŹ  2011      1    1     3   \n",
       "4     351190465         ŁÓDŹ  2011      1    1     4   \n",
       "\n",
       "  Cloud base height CL CM encrypted [code]  Measurement status HPOD  \\\n",
       "0                                        3                      NaN   \n",
       "1                                        4                      NaN   \n",
       "2                                        4                      NaN   \n",
       "3                                        4                      NaN   \n",
       "4                                        4                      NaN   \n",
       "\n",
       "   Lower cloud base height  [m]  Measurement status HPON  ...  \\\n",
       "0                           270                      NaN  ...   \n",
       "1                           330                      NaN  ...   \n",
       "2                           300                      NaN  ...   \n",
       "3                           330                      NaN  ...   \n",
       "4                           400                      NaN  ...   \n",
       "\n",
       "   Freshly fallen snow cover height [cm]  Measurement status HSS  \\\n",
       "0                                      0                     8.0   \n",
       "1                                      0                     8.0   \n",
       "2                                      0                     8.0   \n",
       "3                                      0                     8.0   \n",
       "4                                      0                     8.0   \n",
       "\n",
       "  Snow cover height in the plot [cm] Measurement status GRSN Snow type [code]  \\\n",
       "0                                  0                     8.0              NaN   \n",
       "1                                  0                     8.0              NaN   \n",
       "2                                  0                     8.0              NaN   \n",
       "3                                  0                     8.0              NaN   \n",
       "4                                  0                     8.0              NaN   \n",
       "\n",
       "   Shape of the cover [code]  Sample height [cm]  Measurement status HPRO  \\\n",
       "0                        NaN                   0                      8.0   \n",
       "1                        NaN                   0                      8.0   \n",
       "2                        NaN                   0                      8.0   \n",
       "3                        NaN                   0                      8.0   \n",
       "4                        NaN                   0                      8.0   \n",
       "\n",
       "   Sample weight [g]  Measurement status CIPR  \n",
       "0                  0                      8.0  \n",
       "1                  0                      8.0  \n",
       "2                  0                      8.0  \n",
       "3                  0                      8.0  \n",
       "4                  0                      8.0  \n",
       "\n",
       "[5 rows x 107 columns]"
      ]
     },
     "execution_count": 2,
     "metadata": {},
     "output_type": "execute_result"
    }
   ],
   "source": [
    "    #Creating a dataframe for weather data\n",
    "    weather_dataframes_list = []\n",
    "    \n",
    "    weather_files_names_list = [x for x in os.listdir('data/weather/') if x.endswith('.csv')]\n",
    "    \n",
    "    with open('data/weather/names.txt') as f:\n",
    "        column_names = f.readlines()\n",
    "    \n",
    "    column_names =[x.rstrip() for x in column_names]\n",
    "    \n",
    "    for i in range(len(weather_files_names_list)):\n",
    "        tmp_df = pd.read_csv(\"data/weather/\" + weather_files_names_list[i],names=column_names)\n",
    "        weather_dataframes_list.append(tmp_df)\n",
    "\n",
    "    weather_data = pd.concat(weather_dataframes_list)\n",
    "    \n",
    "    \n",
    "    weather_data.head()"
   ]
  },
  {
   "cell_type": "code",
   "execution_count": 3,
   "metadata": {},
   "outputs": [
    {
     "data": {
      "text/plain": [
       "<AxesSubplot:>"
      ]
     },
     "execution_count": 3,
     "metadata": {},
     "output_type": "execute_result"
    },
    {
     "data": {
      "image/png": "[encoded data removed]",
      "text/plain": [
       "<Figure size 432x288 with 1 Axes>"
      ]
     },
     "metadata": {
      "needs_background": "light"
     },
     "output_type": "display_data"
    }
   ],
   "source": [
    "    sns.heatmap(weather_data.isna().transpose(),\n",
    "            cmap=\"YlGnBu\",\n",
    "            cbar=False)"
   ]
  },
  {
   "cell_type": "code",
   "execution_count": 4,
   "metadata": {},
   "outputs": [
    {
     "data": {
      "text/plain": [
       "int64      26\n",
       "float64    66\n",
       "object     15\n",
       "dtype: int64"
      ]
     },
     "execution_count": 4,
     "metadata": {},
     "output_type": "execute_result"
    }
   ],
   "source": [
    "    #Column types\n",
    "    weather_data.columns.to_series().groupby(weather_data.dtypes).count()"
   ]
  },
  {
   "cell_type": "markdown",
   "metadata": {},
   "source": [
    "### Influenza data examination.\n",
    "#### Checked missing values. Checked column types."
   ]
  },
  {
   "cell_type": "code",
   "execution_count": 5,
   "metadata": {},
   "outputs": [],
   "source": [
    "    influenza_data = pd.read_csv(\"data/influenza/influenza.csv\")"
   ]
  },
  {
   "cell_type": "code",
   "execution_count": 6,
   "metadata": {},
   "outputs": [
    {
     "data": {
      "text/plain": [
       "<AxesSubplot:>"
      ]
     },
     "execution_count": 6,
     "metadata": {},
     "output_type": "execute_result"
    },
    {
     "data": {
      "image/png": "[encoded data removed]",
      "text/plain": [
       "<Figure size 432x288 with 2 Axes>"
      ]
     },
     "metadata": {
      "needs_background": "light"
     },
     "output_type": "display_data"
    }
   ],
   "source": [
    "    sns.heatmap(influenza_data.isna().transpose(),\n",
    "            cmap=\"YlGnBu\",\n",
    "            cbar_kws={'label': 'Missing Data'})"
   ]
  },
  {
   "cell_type": "code",
   "execution_count": 7,
   "metadata": {},
   "outputs": [
    {
     "data": {
      "text/plain": [
       "int64      11\n",
       "float64     1\n",
       "object      1\n",
       "dtype: int64"
      ]
     },
     "execution_count": 7,
     "metadata": {},
     "output_type": "execute_result"
    }
   ],
   "source": [
    "    influenza_data.columns.to_series().groupby(influenza_data.dtypes).count()"
   ]
  },
  {
   "cell_type": "markdown",
   "metadata": {
    "deletable": false,
    "editable": false,
    "heading_collapsed": true,
    "nbgrader": {
     "cell_type": "markdown",
     "checksum": "627392bff04e2bb57bbdf34ca9e5a6d8",
     "grade": false,
     "grade_id": "cell-229171ad2a65880f",
     "locked": true,
     "schema_version": 3,
     "solution": false,
     "task": false
    }
   },
   "source": [
    "## Task 1: Load Data\n",
    "\n",
    "Total number of points for completing this task: **20**"
   ]
  },
  {
   "cell_type": "markdown",
   "metadata": {
    "deletable": false,
    "editable": false,
    "hidden": true,
    "nbgrader": {
     "cell_type": "markdown",
     "checksum": "052fa59bb2faade1ffb6da5377276dba",
     "grade": false,
     "grade_id": "cell-1e8af7000c653c50",
     "locked": true,
     "schema_version": 3,
     "solution": false,
     "task": false
    }
   },
   "source": [
    "### Weather observations\n",
    "\n",
    "As a first step, implement the method `load_weather_data()`, which should read all individual (yearly) datasets from the csv files in `data\\weather\\` into a single `pd.DataFrame` and return it. \n",
    "\n",
    "- make sure that you load all the data (2010-2020)\n",
    "- make sure that all columns are appropriately named, use `data\\weather\\names.txt` file to fill in column names\n",
    "- from the `Year`, `Month`, `Day` and `Hour` columns create column `Date` and `Week`, where `Date` is a [`pandas.Timestamp`](https://pandas.pydata.org/pandas-docs/stable/reference/api/pandas.Timestamp.html) object and `Week` contains the week number of the date. Use Pandas built-in datetime handling features.\n",
    "- create a `MultiIndex` from the date columns with the following hierarchy: `Year` - `Month` - `Week` - `Day` - `Hour` (make sure to label them accordingly)\n",
    "\n",
    "\n",
    "**Hints:**\n",
    " \n",
    " - LOOK at the data in the original files\n",
    " - It is advisable not to append each data set individually, but to read each data frame, store it into a list and  combine them once at the end.\n",
    " - Your resulting data frame should look as follows:\n",
    "\n",
    "![Weather data frame example](weather_data_dataframe_sample.png)"
   ]
  },
  {
   "cell_type": "code",
   "execution_count": 8,
   "metadata": {
    "deletable": false,
    "hidden": true,
    "nbgrader": {
     "cell_type": "code",
     "checksum": "60826ab180f768776fd7e5ada5395d5f",
     "grade": true,
     "grade_id": "task_1_1",
     "locked": false,
     "points": 3,
     "schema_version": 3,
     "solution": true,
     "task": false
    }
   },
   "outputs": [
    {
     "name": "stderr",
     "output_type": "stream",
     "text": [
      "/tmp/ipykernel_846/1746918899.py:41: DtypeWarning: Columns (6,56) have mixed types.Specify dtype option on import or set low_memory=False.\n",
      "  data_weather = load_weather_data()\n",
      "/tmp/ipykernel_846/1746918899.py:41: DtypeWarning: Columns (34) have mixed types.Specify dtype option on import or set low_memory=False.\n",
      "  data_weather = load_weather_data()\n"
     ]
    }
   ],
   "source": [
    "def load_weather_data():\n",
    "    \"\"\" \n",
    "    Load all weather data files and combine them into a single Pandas DataFrame.\n",
    "    Add a week column and a hierarchical index (year, month, week, day)\n",
    "    \n",
    "    Returns\n",
    "    --------\n",
    "    weather_data: data frame containing the weather data\n",
    "    \"\"\"\n",
    "    \n",
    "    # Creating an empty list to store separate dataframes of each .csv file\n",
    "    weather_dataframes_list = []\n",
    "    \n",
    "    # Creating a list of csv file names for later usage when reading in the files themselves\n",
    "    weather_files_names_list = [x for x in os.listdir('data/weather/') if x.endswith('.csv')]\n",
    "    \n",
    "    #Reading in column names\n",
    "    with open('data/weather/names.txt') as f:\n",
    "        column_names = f.readlines()\n",
    "    \n",
    "    #Stripping column names of trailing newlines('\\n')\n",
    "    column_names =[x.rstrip() for x in column_names]\n",
    "    #column_names = sorted(column_names)\n",
    "    \n",
    "    #Creating dataframe list with defined columns\n",
    "    for i in range(len(weather_files_names_list)):\n",
    "        tmp_df = pd.read_csv(\"data/weather/\" + weather_files_names_list[i],names=column_names)\n",
    "        weather_dataframes_list.append(tmp_df)\n",
    "\n",
    "    #Concatinating a list of dataframes\n",
    "    weather_data = pd.concat(weather_dataframes_list)\n",
    "    #Adding Date and Week columns\n",
    "    weather_data[\"Date\"] = pd.to_datetime(weather_data[[\"Year\",\"Month\",\"Day\",\"Hour\"]])\n",
    "    weather_data[\"Week\"] = weather_data['Date'].dt.isocalendar().week\n",
    "       \n",
    "    #Creating MultiIndex from Year - Month - Week - Day - Hour columns\n",
    "    weather_data.set_index([\"Year\",\"Month\",\"Week\",\"Day\",\"Hour\"], inplace = True,append = True)\n",
    "                \n",
    "    return weather_data\n",
    "\n",
    "data_weather = load_weather_data()"
   ]
  },
  {
   "cell_type": "code",
   "execution_count": 9,
   "metadata": {
    "deletable": false,
    "editable": false,
    "nbgrader": {
     "cell_type": "code",
     "checksum": "e6416825a7280bb5c39ce9b01b1b67c0",
     "grade": true,
     "grade_id": "cell-105f2bc20d2ec819",
     "locked": true,
     "points": 3,
     "schema_version": 3,
     "solution": false,
     "task": false
    }
   },
   "outputs": [],
   "source": [
    "assert data_weather.shape[0] == 96432\n",
    "assert data_weather.shape[1] > 102\n",
    "\n",
    "# additional tests"
   ]
  },
  {
   "cell_type": "code",
   "execution_count": 10,
   "metadata": {
    "deletable": false,
    "editable": false,
    "nbgrader": {
     "cell_type": "code",
     "checksum": "2f9be2a67d0240b30326607022c9fed9",
     "grade": true,
     "grade_id": "cell-a11f356acc3c6fc8",
     "locked": true,
     "points": 1,
     "schema_version": 3,
     "solution": false,
     "task": false
    }
   },
   "outputs": [],
   "source": [
    "# hidden tests"
   ]
  },
  {
   "cell_type": "markdown",
   "metadata": {
    "deletable": false,
    "editable": false,
    "nbgrader": {
     "cell_type": "markdown",
     "checksum": "6233475258d403d4debde4f6249e75df",
     "grade": false,
     "grade_id": "cell-1eb6d1fe9b4fc315",
     "locked": true,
     "schema_version": 3,
     "solution": false,
     "task": false
    }
   },
   "source": [
    "**Q** Which combination of year+week has the lowest number of entries? You should find the respective entry/entries using pandas. Return the first answer if there is more than one combination fulfilling these criteria."
   ]
  },
  {
   "cell_type": "code",
   "execution_count": 11,
   "metadata": {
    "deletable": false,
    "nbgrader": {
     "cell_type": "code",
     "checksum": "2dd00ad900ce5a65e87453e68068737a",
     "grade": false,
     "grade_id": "cell-34f1fea7203a7f0c",
     "locked": false,
     "schema_version": 3,
     "solution": true,
     "task": false
    }
   },
   "outputs": [
    {
     "data": {
      "text/plain": [
       "(2010, 53)"
      ]
     },
     "execution_count": 11,
     "metadata": {},
     "output_type": "execute_result"
    }
   ],
   "source": [
    "# fill your answer into these variables\n",
    "year = 2010 \n",
    "week = 53\n",
    "\n",
    "data_weather.groupby(level=['Year','Week']).size().idxmin()"
   ]
  },
  {
   "cell_type": "code",
   "execution_count": 12,
   "metadata": {
    "deletable": false,
    "editable": false,
    "nbgrader": {
     "cell_type": "code",
     "checksum": "d90254ebf6f01f91917fc975375cf80b",
     "grade": true,
     "grade_id": "cell-4b65d9fc4776d2e1",
     "locked": true,
     "points": 1,
     "schema_version": 3,
     "solution": false,
     "task": false
    }
   },
   "outputs": [],
   "source": [
    "# hidden tests"
   ]
  },
  {
   "cell_type": "markdown",
   "metadata": {
    "deletable": false,
    "editable": false,
    "hidden": true,
    "nbgrader": {
     "cell_type": "markdown",
     "checksum": "48df504786b24848b063824ad59a77bc",
     "grade": false,
     "grade_id": "cell-dd1453912bfabbb7",
     "locked": true,
     "schema_version": 3,
     "solution": false,
     "task": false
    }
   },
   "source": [
    "### Influenza infections\n",
    "\n",
    "Load and prepare the second dataset (`data/influenza/influenza.csv`), which contains the number of new influenza infections on a weekly basis, as follows:\n",
    "\n",
    "- Stack all seasonal data into one column\n",
    "- Convert months written in roman numerals to arabic numbers (II -> 2) and save them into `Month` column\n",
    "- For each entry extract year based on the season and month values\n",
    "- Extract week data into column `Week`\n",
    "- Create a `MultiIndex` from the `Year` and `Week` columns\n",
    "- Rename column containing influenza cases as `Influenza_cases`\n",
    "- Make sure that all columns are appropriately typed\n",
    "- Remove rows with missing infection counts\n",
    "- Your resulting data frame should look as follows:\n",
    "\n",
    "![Example data frame](influenza_data_dataframe_sample.png)"
   ]
  },
  {
   "cell_type": "code",
   "execution_count": 13,
   "metadata": {
    "deletable": false,
    "hidden": true,
    "nbgrader": {
     "cell_type": "code",
     "checksum": "7139541eb5db1e23e123a17de87525c6",
     "grade": true,
     "grade_id": "cell-53ad536ee8e2a817",
     "locked": false,
     "points": 3,
     "schema_version": 3,
     "solution": true,
     "task": false
    }
   },
   "outputs": [],
   "source": [
    "def roman_to_arabic(roman_number):\n",
    "    roman_number = roman_number.split(\".\")\n",
    "    \n",
    "    number = 0\n",
    "    if roman_number[1] == \"I\":\n",
    "        number = 1\n",
    "    elif roman_number[1] == \"II\":\n",
    "        number = 2\n",
    "    elif roman_number[1] == \"III\":\n",
    "        number = 3\n",
    "    elif roman_number[1] == \"IV\":\n",
    "        number = 4\n",
    "    elif roman_number[1] == \"V\":\n",
    "        number = 5\n",
    "    elif roman_number[1] == \"VI\":\n",
    "        number = 6\n",
    "    elif roman_number[1] == \"VII\":\n",
    "        number = 7\n",
    "    elif roman_number[1] == \"VIII\":\n",
    "        number = 8\n",
    "    elif roman_number[1] == \"IX\":\n",
    "        number = 9\n",
    "    elif roman_number[1] == \"X\":\n",
    "        number = 10\n",
    "    elif roman_number[1] == \"XI\":\n",
    "        number = 11\n",
    "    elif roman_number[1] == \"XII\":\n",
    "        number = 12\n",
    "    \n",
    "    return number,roman_number[0]\n",
    "\n",
    "def extract_year(season,month):\n",
    "    searson_year = \"\"\n",
    "    \n",
    "    season = season.replace('/',' ').split()\n",
    "    \n",
    "    season_year = 0\n",
    "    if month > 5:\n",
    "        season_year = season[1]\n",
    "        \n",
    "    elif month < 5:\n",
    "        season_year = season[2]\n",
    "        \n",
    "    \n",
    "    return season_year\n",
    "        \n",
    "def load_influenza_data():\n",
    "    \"\"\" \n",
    "    Load and prepare the influenza data file\n",
    "    \n",
    "    Returns\n",
    "    --------\n",
    "    influenza_data: data frame containing the influenza data\n",
    "    \"\"\"\n",
    "    influenza_data = pd.read_csv(\"data/influenza/influenza.csv\")\n",
    "    \n",
    "    \n",
    "    #Gather keys of columns that need stacking\n",
    "    keys = [c for c in influenza_data.columns if c.startswith('season')]\n",
    "    \n",
    "    #Stack season columns using melt\n",
    "    influenza_data = pd.melt(influenza_data, id_vars='week', value_vars=keys, value_name='key')\n",
    "    \n",
    "    #Transform months roman to arabic and create month column\n",
    "    influenza_data[\"month\"] = influenza_data[\"week\"].apply(lambda x: roman_to_arabic(x)[0])\n",
    "    \n",
    "    #For each entry extract year based on the season and month values\n",
    "    influenza_data[\"year\"] = influenza_data[[\"variable\",\"month\"]].apply(lambda x : extract_year(*x), axis=1)\n",
    "\n",
    "    #Extract week data into column Week\n",
    "    influenza_data[\"week\"] = influenza_data[\"week\"].apply(lambda x: roman_to_arabic(x)[1])\n",
    "    \n",
    "    #Drop not needed columns\n",
    "    influenza_data = influenza_data.drop([\"variable\"], axis=1)\n",
    "    \n",
    "    #Create a MultiIndex from the Year and Week columns\n",
    "    influenza_data.set_index([\"year\",\"week\"], inplace = True,append = True)\n",
    "    \n",
    "    #Rename column containing influenza cases as Influenza_cases\n",
    "    influenza_data = influenza_data.rename({\"key\":\"influenza_cases\"}, axis=1)\n",
    "    \n",
    "    #Remove rows with missing infection counts\n",
    "    influenza_data = influenza_data[influenza_data['influenza_cases'].notna()]\n",
    "    \n",
    "\n",
    "    return influenza_data\n",
    "\n",
    "data_influenza = load_influenza_data()"
   ]
  },
  {
   "cell_type": "code",
   "execution_count": 14,
   "metadata": {
    "deletable": false,
    "editable": false,
    "nbgrader": {
     "cell_type": "code",
     "checksum": "db22f926da08a6033c4cb4a03afee5c1",
     "grade": true,
     "grade_id": "cell-e7f411bfef4d7115",
     "locked": true,
     "points": 3,
     "schema_version": 3,
     "solution": false,
     "task": false
    }
   },
   "outputs": [],
   "source": [
    "assert data_influenza.shape == (356, 2)\n",
    "# additional tests\n"
   ]
  },
  {
   "cell_type": "code",
   "execution_count": 15,
   "metadata": {
    "deletable": false,
    "editable": false,
    "nbgrader": {
     "cell_type": "code",
     "checksum": "afb48502d9b94e0b9cd0b244caf5d77a",
     "grade": true,
     "grade_id": "cell-7be34ad855bcc5a4",
     "locked": true,
     "points": 3,
     "schema_version": 3,
     "solution": false,
     "task": false
    },
    "tags": []
   },
   "outputs": [],
   "source": [
    "# hidden tests"
   ]
  },
  {
   "cell_type": "markdown",
   "metadata": {
    "deletable": false,
    "editable": false,
    "nbgrader": {
     "cell_type": "markdown",
     "checksum": "6fa03a238c6632714299e2bb8bca632c",
     "grade": false,
     "grade_id": "cell-41c2943747b9f8ee",
     "locked": true,
     "schema_version": 3,
     "solution": false,
     "task": false
    }
   },
   "source": [
    "**Q:** Which combination of year+week shows the highest number of infections? You should find the respective entry/entries using pandas. Return the first answer if there is more than one combination fulfilling these criteria."
   ]
  },
  {
   "cell_type": "code",
   "execution_count": 16,
   "metadata": {
    "deletable": false,
    "nbgrader": {
     "cell_type": "code",
     "checksum": "748f97d48a60309849e3d7d061189124",
     "grade": false,
     "grade_id": "cell-66fd063e9fd7790b",
     "locked": false,
     "schema_version": 3,
     "solution": true,
     "task": false
    }
   },
   "outputs": [
    {
     "data": {
      "text/plain": [
       "influenza_cases     (2017, 4)\n",
       "month              (2010, 49)\n",
       "dtype: object"
      ]
     },
     "execution_count": 16,
     "metadata": {},
     "output_type": "execute_result"
    }
   ],
   "source": [
    "# fill your answer into these variables\n",
    "year = 2017 \n",
    "week = 4\n",
    "\n",
    "data_influenza.groupby(level=[\"year\",\"week\"]).sum().idxmax()"
   ]
  },
  {
   "cell_type": "code",
   "execution_count": 17,
   "metadata": {
    "deletable": false,
    "editable": false,
    "nbgrader": {
     "cell_type": "code",
     "checksum": "698ed21e229014a45c04518c2214d5e4",
     "grade": true,
     "grade_id": "cell-e4d0caffee11b7f1",
     "locked": true,
     "points": 1,
     "schema_version": 3,
     "solution": false,
     "task": false
    }
   },
   "outputs": [],
   "source": [
    "# hidden tests"
   ]
  },
  {
   "cell_type": "markdown",
   "metadata": {
    "deletable": false,
    "editable": false,
    "nbgrader": {
     "cell_type": "markdown",
     "checksum": "a4595673dd5823013e3a389a153e0324",
     "grade": false,
     "grade_id": "cell-2beb19ac2cbc4418",
     "locked": true,
     "schema_version": 3,
     "solution": false,
     "task": false
    }
   },
   "source": [
    "**Q:** Which combination of year+month shows the highest number of infections? You should find the respective entry/entries using pandas. Return the first answer if there is more than one combination fulfilling these criteria."
   ]
  },
  {
   "cell_type": "code",
   "execution_count": 18,
   "metadata": {
    "deletable": false,
    "nbgrader": {
     "cell_type": "code",
     "checksum": "79b49746610a891a742e6fabd4265cea",
     "grade": false,
     "grade_id": "cell-b5908466843d7806",
     "locked": false,
     "schema_version": 3,
     "solution": true,
     "task": false
    }
   },
   "outputs": [
    {
     "data": {
      "text/plain": [
       "influenza_cases    (2013, 1)\n",
       "dtype: object"
      ]
     },
     "execution_count": 18,
     "metadata": {},
     "output_type": "execute_result"
    }
   ],
   "source": [
    "# fill your answer into these variables\n",
    "year = 2013  \n",
    "month = 1\n",
    "\n",
    "data_influenza.groupby([\"year\",\"month\"]).sum().idxmax()"
   ]
  },
  {
   "cell_type": "code",
   "execution_count": 19,
   "metadata": {
    "deletable": false,
    "editable": false,
    "nbgrader": {
     "cell_type": "code",
     "checksum": "f77e343150ffd3e2d027f9c59f87f73b",
     "grade": true,
     "grade_id": "cell-e75a55b73338c206",
     "locked": true,
     "points": 1,
     "schema_version": 3,
     "solution": false,
     "task": false
    }
   },
   "outputs": [],
   "source": [
    "# hidden tests"
   ]
  },
  {
   "cell_type": "markdown",
   "metadata": {
    "deletable": false,
    "editable": false,
    "heading_collapsed": true,
    "nbgrader": {
     "cell_type": "markdown",
     "checksum": "2e066cee2bd6e9e24ec0bd6b8c292ecd",
     "grade": false,
     "grade_id": "cell-eaed0608e1e878dd",
     "locked": true,
     "schema_version": 3,
     "solution": false,
     "task": false
    }
   },
   "source": [
    "## Task 2: Handling Missing Values\n",
    "\n",
    "Total number of points for completing this task: **15**"
   ]
  },
  {
   "cell_type": "markdown",
   "metadata": {
    "deletable": false,
    "editable": false,
    "hidden": true,
    "nbgrader": {
     "cell_type": "markdown",
     "checksum": "78ddade1ea75558d9194ebd7fdd1602a",
     "grade": false,
     "grade_id": "cell-7b160d858ba90ffd",
     "locked": true,
     "schema_version": 3,
     "solution": false,
     "task": false
    }
   },
   "source": [
    "If you take a closer look at the data, you will notice that a few of the observations are missing.\n",
    "\n",
    "There is a wide range of standard strategies to deal with such missing values, including:\n",
    "\n",
    "- row deletion\n",
    "- substitution methods (e.g., replace with mean or median)\n",
    "- hot-/cold-deck methods (impute from a randomly selected similar record)\n",
    "- regression methods\n",
    "\n",
    "To decide which strategy is appropriate, it is essential to investigate the mechanism that led to the missing values to find out whether the missing data is missing completely at random, missing at random, or missing not at random. \n",
    "\n",
    " - **MCAR** (Missing Completely At Random) means that there is no relationship between the missingness of the data and any of the values.\n",
    " - **MAR** (Missing At Random) means that there is a systematic relationship between the propensity of missing values and the observed data, but not the missing data.\n",
    " - **MNAR** (Missing Not At Random) means that there is a systematic relationship between the propensity of a value to be missing and its values. \n",
    " \n",
    "\n",
    "_______\n",
    "\n",
    "You talked to the meteorologists who compiled the data to find out more about what mechanisms may have caused the missing values. \n",
    "\n",
    "They told you that they do not know why some of the temperature (`Air Temperature [°C]`) and pressure (`Surface pressure [hPa]` and `Mean sea-level pressure [hPa]`) readings are missing, but someone may have forgotten to record them. In any case, the propensity of temperature and pressure values to be missing does not have anything to do with the weather itself.\n",
    "\n",
    "As far as the missing humidity readings are concerned (`Relative humidity [%]`), according to their experience, they suspect that the humidity sensor is less reliable when the wind blows directly from the West.\n",
    "\n",
    "Check the plausibility of these hypotheses in the data, consider the implications, and devise an appropriate strategy to deal with the various missing values.\n",
    "\n",
    "You also received an additional file from the meteorologists: `data\\weather\\description.txt` that contains description of the columns. According to that file, if data in a column called `Measurement status _X_` contains a specific code (either 8 or 9) then the preceding column value is not reliable. For example, when value for `Measurement status PORW` is equal to 8 or 9, then readings for `Wind gust  [m/s]` column should be treated as missing.\n",
    "\n",
    "\n",
    "Because of the sensitivity of the sensor, wind gust data is unavailable for many records. Meteorologists tell you, that for this station, missing wind gust data could be easily approximated by multiplying standard wind speed (`Wind speed  [m/s]`) by a factor o 1.55.\n",
    "\n",
    "\n",
    "- Handle missing values for the following columns: `Air Temperature [°C]`, `Surface pressure [hPa]`, `Mean sea-level pressure [hPa]`, `Relative humidity [%]` and `Wind gust  [m/s]`\n",
    "- For the remaining columns, especially `Measurement status _X_`, it is ok to fill the missing values with 0\n",
    "\n",
    "To implement your strategy, you can use a range of standard mechanisms provided by Pandas, by implementing `handle_missingValues_simple`, or implement a custom strategy (for extra points, by implementing `handle_missingValues_advanced`)."
   ]
  },
  {
   "cell_type": "markdown",
   "metadata": {},
   "source": [
    "#### Here I confirm or deny hypotheses in the data, by checking if there are missing values based on the conditions provided in the description above. For Air Temperature [°C], Surface pressure [hPa] and Mean sea-level pressure [hPa] MCAR (Missing Completely At Random) applies. For Relative humidity [%]  MAR (Missing At Random)  applies. And for Wind gust  [m/s] the MNAR applies as there is a systematic relationship between the propensity of a value to be missing and its values. The checking and visualization is done below."
   ]
  },
  {
   "cell_type": "code",
   "execution_count": 20,
   "metadata": {
    "deletable": false,
    "nbgrader": {
     "cell_type": "code",
     "checksum": "9e6d0c1c4de3d1f39c9d705e42c4f2ff",
     "grade": true,
     "grade_id": "cell-4b098b977e3c6e0f",
     "locked": false,
     "points": 3,
     "schema_version": 3,
     "solution": true,
     "task": false
    }
   },
   "outputs": [
    {
     "name": "stdout",
     "output_type": "stream",
     "text": [
      "Air Temperature. MISSING VALUE COUNTS\n",
      "2024\n",
      "Surface pressure. MISSING VALUE COUNTS\n",
      "5033\n",
      "Mean sea-level pressure. MISSING VALUE COUNTS\n",
      "5033\n",
      "Relative humidity. WEST. MISSING VALUE COUNTS\n",
      "801\n",
      "Relative humidity. OVERALL. MISSING VALUE COUNTS\n",
      "801\n",
      "Wind gust. 8 or 9. MISSING VALUE COUNTS\n",
      "85198\n",
      "Wind gust. NaN. MISSING VALUE COUNTS\n",
      "0\n",
      "Wind speed. MISSING VALUE COUNTS\n",
      "4607\n"
     ]
    },
    {
     "data": {
      "text/plain": [
       "<AxesSubplot:ylabel='None-Year-Month-Week-Day-Hour'>"
      ]
     },
     "execution_count": 20,
     "metadata": {},
     "output_type": "execute_result"
    },
    {
     "data": {
      "image/png": "[encoded data removed]",
      "text/plain": [
       "<Figure size 432x288 with 1 Axes>"
      ]
     },
     "metadata": {
      "needs_background": "light"
     },
     "output_type": "display_data"
    }
   ],
   "source": [
    "#Temperature and Pressures\n",
    "print(\"Air Temperature. MISSING VALUE COUNTS\")\n",
    "print(sum(data_weather[\"Air Temperature [°C]\"].isnull()))\n",
    "\n",
    "print(\"Surface pressure. MISSING VALUE COUNTS\")\n",
    "print(sum(data_weather[\"Surface pressure [hPa]\"].isnull()))\n",
    "\n",
    "print(\"Mean sea-level pressure. MISSING VALUE COUNTS\")\n",
    "print(sum(data_weather[\"Mean sea-level pressure [hPa]\"].isnull()))\n",
    "\n",
    "#Relative humidity. Directly from the west\n",
    "print(\"Relative humidity. WEST. MISSING VALUE COUNTS\")\n",
    "print(sum(data_weather[data_weather[\"Wind direction  [°]\"]==270][\"Relative humidity [%]\"].isnull()))\n",
    "#print(data_weather.groupby([\"Wind direction  [°]\"])[\"Relative humidity [%]\"].count()==0)\n",
    "\n",
    "#Relative humidity. OVERALL\n",
    "print(\"Relative humidity. OVERALL. MISSING VALUE COUNTS\")\n",
    "print(sum(data_weather[\"Relative humidity [%]\"].isnull()))\n",
    "\n",
    "#If 8 or 9 in measurement columns then Wind gust should be treated as missing\n",
    "print(\"Wind gust. 8 or 9. MISSING VALUE COUNTS\")\n",
    "print(sum(data_weather.loc[(data_weather[\"Measurement status PORW\"] == 8 | 9) | (data_weather[\"Wind speed  [m/s]\"] == 0), \"Wind gust  [m/s]\"] == 0))\n",
    "\n",
    "print(\"Wind gust. NaN. MISSING VALUE COUNTS\")\n",
    "print(sum(data_weather[\"Wind gust  [m/s]\"].isnull()))\n",
    "\n",
    "print(\"Wind speed. MISSING VALUE COUNTS\")\n",
    "print(sum(data_weather[\"Wind speed  [m/s]\"]==0))\n",
    "\n",
    "\n",
    "tmp = data_weather[[\"Air Temperature [°C]\",\"Wind gust  [m/s]\",\"Wind speed  [m/s]\",\"Surface pressure [hPa]\",\"Mean sea-level pressure [hPa]\",\"Relative humidity [%]\"]]\n",
    "        \n",
    "sns.heatmap(tmp.isnull(), cbar=False)"
   ]
  },
  {
   "cell_type": "code",
   "execution_count": 21,
   "metadata": {
    "deletable": false,
    "hidden": true,
    "nbgrader": {
     "cell_type": "code",
     "checksum": "cfd17210f9ad92716527fc02060d0cf9",
     "grade": true,
     "grade_id": "cell-d0206b1a358470cb",
     "locked": false,
     "points": 3,
     "schema_version": 3,
     "solution": true,
     "task": false
    }
   },
   "outputs": [],
   "source": [
    "def handle_missingValues_simple(incomplete_data):\n",
    "    \"\"\" \n",
    "    Parameters\n",
    "    --------\n",
    "    incomplete_data: data frame containing missing values \n",
    "    \n",
    "    Returns\n",
    "    --------\n",
    "    complete_data: data frame not containing any missing values\n",
    "    \"\"\"\n",
    "   \n",
    "    complete_data = incomplete_data\n",
    "    \n",
    "    #For the Air Temperature replace missing values with average temperature of the month\n",
    "    complete_data[\"Air Temperature [°C]\"].fillna((complete_data.groupby([\"Month\"])[\"Air Temperature [°C]\"].transform(\"mean\")), inplace=True)\n",
    "\n",
    "    #For Relative Humidity\n",
    "    complete_data[\"Relative humidity [%]\"].fillna((complete_data.groupby([\"Hour\"])[\"Relative humidity [%]\"].transform(\"mean\")), inplace=True) \n",
    "   \n",
    "    #For the pressures fill the missing values with the previous existing value\n",
    "    complete_data[\"Surface pressure [hPa]\"] = complete_data[\"Surface pressure [hPa]\"].fillna(method='ffill')\n",
    "    \n",
    "    complete_data[\"Mean sea-level pressure [hPa]\"] = complete_data[\"Mean sea-level pressure [hPa]\"].fillna(method='ffill')\n",
    "    \n",
    "    #For the wind gust \n",
    "    mask = (complete_data[\"Measurement status PORW\"]== 8 | 9) | (complete_data[\"Wind speed  [m/s]\"]== 0)\n",
    "    complete_data[\"Wind gust  [m/s]\"] = np.where(mask, complete_data[\"Wind speed  [m/s]\"] * 1.55, complete_data[\"Wind gust  [m/s]\"])\n",
    "\n",
    "    #Change remaining NaN's to 0\n",
    "    complete_data = complete_data.fillna(value=0)\n",
    "    \n",
    "    return complete_data\n",
    "\n",
    "\n",
    "def handle_missingValues_advanced(incomplete_data):\n",
    "    \"\"\" \n",
    "    Parameters\n",
    "    --------\n",
    "    data: data frame containing missing values \n",
    "    \n",
    "    Returns\n",
    "    --------\n",
    "    data: data frame not containing any missing values\n",
    "    \"\"\"\n",
    "    # YOUR CODE HERE\n",
    "    raise NotImplementedError()\n",
    "    \n",
    "    return complete_data\n",
    "    \n",
    "data_weather_complete = handle_missingValues_simple(data_weather)"
   ]
  },
  {
   "cell_type": "code",
   "execution_count": 22,
   "metadata": {
    "deletable": false,
    "editable": false,
    "nbgrader": {
     "cell_type": "code",
     "checksum": "415584670e4796223da08f257a82b400",
     "grade": true,
     "grade_id": "cell-76b89778496da761",
     "locked": true,
     "points": 1,
     "schema_version": 3,
     "solution": false,
     "task": false
    }
   },
   "outputs": [],
   "source": [
    "# hidden tests"
   ]
  },
  {
   "cell_type": "code",
   "execution_count": 23,
   "metadata": {
    "deletable": false,
    "editable": false,
    "nbgrader": {
     "cell_type": "code",
     "checksum": "a61c3eb7a1dd1583eb5c5d95b9b61efd",
     "grade": true,
     "grade_id": "cell-0e9020f96f93e0c5",
     "locked": true,
     "points": 1,
     "schema_version": 3,
     "solution": false,
     "task": false
    }
   },
   "outputs": [],
   "source": [
    "# hidden tests"
   ]
  },
  {
   "cell_type": "code",
   "execution_count": 24,
   "metadata": {
    "deletable": false,
    "editable": false,
    "nbgrader": {
     "cell_type": "code",
     "checksum": "e71af7506096da9ab20dc019adf24612",
     "grade": true,
     "grade_id": "cell-52cdc3d2df752f19",
     "locked": true,
     "points": 1,
     "schema_version": 3,
     "solution": false,
     "task": false
    }
   },
   "outputs": [],
   "source": [
    "# hidden tests"
   ]
  },
  {
   "cell_type": "markdown",
   "metadata": {
    "deletable": false,
    "editable": false,
    "hidden": true,
    "nbgrader": {
     "cell_type": "markdown",
     "checksum": "c248e4db9c80ad217ba6575a8c8b6eb0",
     "grade": false,
     "grade_id": "cell-f664216cc88bb39a",
     "locked": true,
     "schema_version": 3,
     "solution": false,
     "task": false
    }
   },
   "source": [
    "###  Discussion\n",
    "\n",
    "#### Pros and Cons of strategies for dealing with missing data\n",
    "\n",
    "In the cell provided below, discuss the PROs and CONs of various strategies (row deletion, imputation, hot deck methods etc.) for dealing with missing data. Discuss when it is appropriate to use each method."
   ]
  },
  {
   "cell_type": "markdown",
   "metadata": {
    "deletable": false,
    "nbgrader": {
     "cell_type": "markdown",
     "checksum": "646cb09c24c96eb4d048f7418bb0bd43",
     "grade": true,
     "grade_id": "cell-c3f1ed5e4903b2c8",
     "locked": false,
     "points": 3,
     "schema_version": 3,
     "solution": true,
     "task": false
    }
   },
   "source": [
    "Row deletion has a major con which is loosing information from other important features and is appropriate when the variable is insignificant and there are a lot of observations missing. The pro of row deletion would be that it's simple.\n",
    "\n",
    "Imputation has a downside that the imputed value might be out of context and a pro would be that it is easy to understand.\n",
    "\n",
    "Hot deck methods have similar pros and cons as imputation.\n",
    "\n"
   ]
  },
  {
   "cell_type": "markdown",
   "metadata": {
    "deletable": false,
    "editable": false,
    "hidden": true,
    "nbgrader": {
     "cell_type": "markdown",
     "checksum": "6d225d041313e48e1898dbc9967497a9",
     "grade": false,
     "grade_id": "cell-7cf341064d4ce76b",
     "locked": true,
     "schema_version": 3,
     "solution": false,
     "task": false
    }
   },
   "source": [
    "#### Your chosen strategy <span style=\"color:blue\">\n",
    "\n",
    "Explain your chosen strategy for dealing with missing values for the various attributes in the cell below.\n"
   ]
  },
  {
   "cell_type": "markdown",
   "metadata": {
    "deletable": false,
    "nbgrader": {
     "cell_type": "markdown",
     "checksum": "f07fc5ebb51bab6a7367b8c79b53e0aa",
     "grade": true,
     "grade_id": "cell-c28d8f6c675ba3ea",
     "locked": false,
     "points": 3,
     "schema_version": 3,
     "solution": true,
     "task": false
    }
   },
   "source": [
    "Chosen strategy for the Air Temperature variable was replacing the missing values with average of the month.\n",
    "\n",
    "For Relative humidity same was done as for temperature only using the relative humidity of the hour.\n",
    "\n",
    "Surface pressure and Mean sea-level pressure variables were dealt with by replacing there missing values with previous available value.\n",
    "\n",
    "Wind gust missing values and unreliable values were dealt with by using approximation Wind Speed * 1.55."
   ]
  },
  {
   "cell_type": "markdown",
   "metadata": {
    "deletable": false,
    "editable": false,
    "heading_collapsed": true,
    "nbgrader": {
     "cell_type": "markdown",
     "checksum": "f631d140f625ba54bab8d2105b8e7afb",
     "grade": false,
     "grade_id": "cell-2c8e580a4d847f6c",
     "locked": true,
     "schema_version": 3,
     "solution": false,
     "task": false
    }
   },
   "source": [
    "## Task 3: Handling Outliers\n",
    "Total number of points for completing this task: **10**"
   ]
  },
  {
   "cell_type": "markdown",
   "metadata": {
    "deletable": false,
    "editable": false,
    "hidden": true,
    "nbgrader": {
     "cell_type": "markdown",
     "checksum": "a6e2a5f53b9d8a5f2996d86892da0894",
     "grade": false,
     "grade_id": "cell-ce009d4cf322d6a7",
     "locked": true,
     "schema_version": 3,
     "solution": false,
     "task": false
    },
    "tags": []
   },
   "source": [
    "If you take a closer look at some of the observations, you should notice that some of the temperature values are not particularly plausible (hint: plotting histograms of the distributions helps). Hypothesize on the nature of these outliers and implement a strategy to handle them."
   ]
  },
  {
   "cell_type": "code",
   "execution_count": 25,
   "metadata": {
    "deletable": false,
    "nbgrader": {
     "cell_type": "code",
     "checksum": "11fe3d192cb77b6c44398cf6a3d0a958",
     "grade": true,
     "grade_id": "cell-be28effd64f49570",
     "locked": false,
     "points": 2,
     "schema_version": 3,
     "solution": true,
     "task": false
    }
   },
   "outputs": [
    {
     "data": {
      "image/png": "[encoded data removed]",
      "text/plain": [
       "<Figure size 432x288 with 1 Axes>"
      ]
     },
     "metadata": {
      "needs_background": "light"
     },
     "output_type": "display_data"
    }
   ],
   "source": [
    "boxplot = sns.boxplot(x=data_weather_complete[\"Air Temperature [°C]\"])"
   ]
  },
  {
   "cell_type": "code",
   "execution_count": 26,
   "metadata": {},
   "outputs": [
    {
     "data": {
      "image/png": "[encoded data removed]",
      "text/plain": [
       "<Figure size 432x288 with 1 Axes>"
      ]
     },
     "metadata": {
      "needs_background": "light"
     },
     "output_type": "display_data"
    }
   ],
   "source": [
    "histogram = sns.histplot(data_weather_complete,x=\"Air Temperature [°C]\")"
   ]
  },
  {
   "cell_type": "code",
   "execution_count": 27,
   "metadata": {},
   "outputs": [
    {
     "name": "stdout",
     "output_type": "stream",
     "text": [
      "[-123.20000000000002 -106.4 -102.2 -100.1 -96.0 -92.4 -80.0 -79.8 -77.7\n",
      " -73.19999999999999 -71.4 -71.39999999999999 -70.0 -68.4\n",
      " -67.19999999999999 -64.19999999999999 -63.0 -62.400000000000006 -61.8\n",
      " -60.6 -60.0 -50.0 -22.7 -22.4 -22.2 -22.1 -21.9 -21.7 -21.6 -21.4 -21.3\n",
      " -21.2 -21.1 -21.0 -20.9 -20.8 -20.7 -20.6 -20.5 -20.4 -20.3 -20.2 -20.1\n",
      " -20.0 -19.9 -19.8 -19.7 -19.6 -19.5 -19.4 -19.3 -19.2 -19.1 -18.9 -18.8\n",
      " -18.7 -18.6 -18.5 -18.4 -18.3 -18.2 -18.1 -18.0 -17.9 -17.8 -17.7 36.5\n",
      " 36.9 50.0 51.5 54.0 55.0 56.0 58.0 59.5 60.0 60.6 61.2 61.8\n",
      " 62.400000000000006 63.0 63.6 64.19999999999999 64.80000000000001 65.4\n",
      " 66.0 66.5 66.6 67.5 67.80000000000001 68.4 69.6 70.0 70.19999999999999\n",
      " 70.7 70.80000000000001 71.4 72.0 72.10000000000001 72.6 72.8\n",
      " 73.19999999999999 73.5 73.80000000000001 74.0 74.4 75.0 75.6\n",
      " 76.19999999999999 76.5 76.80000000000001 77.0 77.4 78.0 78.6\n",
      " 79.10000000000001 79.19999999999999 79.80000000000001 80.0 80.5 81.0 81.2\n",
      " 81.6 82.0 82.19999999999999 82.60000000000001 82.80000000000001 83.0 83.4\n",
      " 84.0 84.6 84.8 85.19999999999999 85.5 85.80000000000001 86.10000000000001\n",
      " 86.4 87.5 87.6 88.19999999999999 88.2 88.80000000000001 89.0 89.4 90.0\n",
      " 90.5 90.6 91.0 91.2 91.7 91.8 92.0 92.4 92.8 93.0 93.5 93.6 93.8 94.2\n",
      " 94.5 95.2 95.4 96.0 96.5 96.6 97.0 97.2 97.8 98.0 98.4 98.7 99.0 99.2\n",
      " 99.4 99.6 100.0 100.2 100.5 100.8 101.0 101.4 101.5 102.0 102.5 102.6\n",
      " 102.9 103.0 103.2 103.6 103.8 104.4 105.0 105.6 105.7 106.2 106.4 106.8\n",
      " 107.1 107.4 107.5 108.0 108.5 108.6 108.8 109.2 109.5 109.8 109.9 110.4\n",
      " 110.5 111.0 111.2 111.3 111.6 112.2 112.8 113.4 114.0 114.1 114.6 115.0\n",
      " 115.2 115.5 115.8 116.4 117.0 117.6 118.2 118.29999999999998 118.8 119.4\n",
      " 119.70000000000002 120.0 120.4 120.6 120.8 121.2 121.79999999999998 122.0\n",
      " 122.4 122.5 123.0 123.20000000000002 123.6 124.0 124.2 124.6 124.8 125.6\n",
      " 126.0 126.6 127.2 127.4 127.8 128.0 128.1 128.79999999999998 128.8 129.5\n",
      " 129.60000000000002 130.4 130.8 131.39999999999998 132.0 132.8 133.0 133.2\n",
      " 133.6 134.4 135.0 135.1 135.2 135.60000000000002 136.0 136.2 136.8\n",
      " 137.39999999999998 138.0 138.60000000000002 139.2 139.29999999999998\n",
      " 139.8 140.70000000000002 141.60000000000002 142.1 143.39999999999998\n",
      " 144.0 144.20000000000002 144.60000000000002 144.9 145.2 145.6 145.8\n",
      " 146.29999999999998 146.39999999999998 147.0 147.2 147.70000000000002\n",
      " 148.2 148.4 148.8 149.79999999999998 150.0 150.4 152.39999999999998 152.8\n",
      " 153.0 153.6 154.70000000000002 155.39999999999998 155.4 156.8\n",
      " 158.39999999999998 159.6 160.0 161.6 161.70000000000002 162.0 162.4 163.1\n",
      " 163.2 164.5 165.60000000000002 167.2 169.2 170.79999999999998\n",
      " 173.39999999999998 174.0 174.4 174.60000000000002 175.70000000000002\n",
      " 176.4 178.4 179.2 184.1 185.5 185.6 186.0 186.2 186.6 187.2 187.8 188.0\n",
      " 188.8 189.0 191.1 191.2 191.8 197.6 198.6 202.3 204.8 207.9 216.8 217.6\n",
      " 218.4 226.4 232.0 239.2]\n"
     ]
    },
    {
     "data": {
      "image/png": "[encoded data removed]",
      "text/plain": [
       "<Figure size 432x288 with 1 Axes>"
      ]
     },
     "metadata": {
      "needs_background": "light"
     },
     "output_type": "display_data"
    }
   ],
   "source": [
    "_, bp = pd.DataFrame.boxplot(data_weather_complete[\"Air Temperature [°C]\"], return_type='both')\n",
    "\n",
    "outliers = [flier.get_ydata() for flier in bp[\"fliers\"]]\n",
    "\n",
    "print(np.unique(outliers[0]))"
   ]
  },
  {
   "cell_type": "code",
   "execution_count": 28,
   "metadata": {
    "deletable": false,
    "hidden": true,
    "nbgrader": {
     "cell_type": "code",
     "checksum": "6e0e80d466b7835c01074685c723295b",
     "grade": true,
     "grade_id": "cell-04412c26ecaea8c1",
     "locked": false,
     "points": 1,
     "schema_version": 3,
     "solution": true,
     "task": false
    }
   },
   "outputs": [],
   "source": [
    "def handle_outliers(noisy_data):\n",
    "    \"\"\"\n",
    "    Parameters\n",
    "    --------\n",
    "    noisy_data: data frame that contains outliers\n",
    "    \n",
    "    Returns\n",
    "    --------\n",
    "    cleaned_data: data frame with outliers\n",
    "    \"\"\"\n",
    "    \n",
    "    _, bp = pd.DataFrame.boxplot(noisy_data[\"Air Temperature [°C]\"], return_type='both')\n",
    "    plt.close()\n",
    "    outliers = [flier.get_ydata() for flier in bp[\"fliers\"]]\n",
    "    \n",
    "    unique_temp_outliers = np.unique(outliers[0])\n",
    "    \n",
    "    cleaned_data = noisy_data\n",
    "    \n",
    "    #Removing all rows which cointain any of the outlier values.\n",
    "    cleaned_data = cleaned_data[~cleaned_data[\"Air Temperature [°C]\"].isin(unique_temp_outliers)]\n",
    "    \n",
    "    return cleaned_data\n",
    "    \n",
    "data_weather_cleaned = handle_outliers(data_weather_complete)"
   ]
  },
  {
   "cell_type": "code",
   "execution_count": 29,
   "metadata": {
    "deletable": false,
    "editable": false,
    "nbgrader": {
     "cell_type": "code",
     "checksum": "4d168fc013fa5a1f1604554e93b1a023",
     "grade": true,
     "grade_id": "cell-b129bb05cb3cc4c2",
     "locked": true,
     "points": 1,
     "schema_version": 3,
     "solution": false,
     "task": false
    }
   },
   "outputs": [],
   "source": [
    "# hidden tests"
   ]
  },
  {
   "cell_type": "code",
   "execution_count": 30,
   "metadata": {
    "deletable": false,
    "editable": false,
    "nbgrader": {
     "cell_type": "code",
     "checksum": "be39c7efcf2930f37bfe1e5424e2a8e6",
     "grade": true,
     "grade_id": "cell-0f6e7cf0ac91fab4",
     "locked": true,
     "points": 1,
     "schema_version": 3,
     "solution": false,
     "task": false
    }
   },
   "outputs": [],
   "source": [
    "# hidden tests"
   ]
  },
  {
   "cell_type": "code",
   "execution_count": 31,
   "metadata": {
    "deletable": false,
    "editable": false,
    "nbgrader": {
     "cell_type": "code",
     "checksum": "7b6edc397cfeebad4993b6967866f861",
     "grade": true,
     "grade_id": "cell-4cf4385a69d27b57",
     "locked": true,
     "points": 1,
     "schema_version": 3,
     "solution": false,
     "task": false
    }
   },
   "outputs": [],
   "source": [
    "# hidden tests"
   ]
  },
  {
   "cell_type": "markdown",
   "metadata": {
    "deletable": false,
    "editable": false,
    "hidden": true,
    "nbgrader": {
     "cell_type": "markdown",
     "checksum": "96c5c68199bf9672382dfc6e067f63ac",
     "grade": false,
     "grade_id": "cell-f4f717cbd0044513",
     "locked": true,
     "schema_version": 3,
     "solution": false,
     "task": false
    }
   },
   "source": [
    "#### Your chosen strategy\n",
    "\n",
    "In the cell below, explain your chosen strategy for dealing with outliers.\n"
   ]
  },
  {
   "cell_type": "markdown",
   "metadata": {
    "deletable": false,
    "hidden": true,
    "nbgrader": {
     "cell_type": "markdown",
     "checksum": "a03eb54b966046f93a8823c38eab378a",
     "grade": true,
     "grade_id": "cell-ebd69975efade608",
     "locked": false,
     "points": 5,
     "schema_version": 3,
     "solution": true,
     "task": false
    }
   },
   "source": [
    "The outliers were detected by taking a look at the underlying distributions visually, by using histogram and a boxplot. Initially the idea was to check overall average temperature in winter and summer in the city of Lodz and based on that to first change mild(weak) outliers to the average of the temperature, however after seeing in the https://weatherspark.com/y/85184/Average-Weather-in-%C5%81%C3%B3d%C5%BA-Poland-Year-Round website, that the lowest temperature in winter is -5 and in summer highest temperature is around 24 degrees I've decided on removing all rows which contain the temperature outliers, because the difference between the lowest average temperature from the website and the smallest negative value in the array of outliers(created in the previous cell) is way to big to be considered as mild outlier. Same goes for the highest average temperature from the website with comparison to the values in the unique temperature outliers array."
   ]
  },
  {
   "cell_type": "markdown",
   "metadata": {
    "deletable": false,
    "editable": false,
    "heading_collapsed": true,
    "nbgrader": {
     "cell_type": "markdown",
     "checksum": "123285818bad32735aa6fef723251244",
     "grade": false,
     "grade_id": "cell-0990eaaca0f65e11",
     "locked": true,
     "schema_version": 3,
     "solution": false,
     "task": false
    }
   },
   "source": [
    "## Task 4: Aggregate values\n",
    "Total number of points for completing this task: **5**"
   ]
  },
  {
   "cell_type": "markdown",
   "metadata": {
    "deletable": false,
    "editable": false,
    "hidden": true,
    "nbgrader": {
     "cell_type": "markdown",
     "checksum": "d9f792bb849e3b36df6973c22f4e1da7",
     "grade": false,
     "grade_id": "cell-49212be7489aed15",
     "locked": true,
     "schema_version": 3,
     "solution": false,
     "task": false
    }
   },
   "source": [
    "Aggregate the observations on a weekly basis. Return a data frame with a hierarchical index (levels `year` and `week`) on the vertical axis and the following weekly aggregations as columns:\n",
    "\n",
    "- `temp_weeklyMin`: minimum of `Air Temperature [°C]`\n",
    "- `temp_weeklyMax`: <span style=\"color:red\">max</span> of `Air Temperature [°C]`\n",
    "- `temp_weeklyMean`: mean of `Air Temperature [°C]`\n",
    "- `temp_weeklyMedian`: median of `Air Temperature [°C]`\n",
    "\n",
    "\n",
    "- `precip_weeklyMin`: min of `Precipitation past 6 hours [mm]`\n",
    "- `precip_weeklyMax`: max of `Precipitation past 6 hours [mm]`\n",
    "- `precip_weeklyMean`: mean of `Precipitation past 6 hours [mm]`\n",
    "\n",
    "\n",
    "- `hum_weeklyMin`: min of `Relative humidity [%]`\n",
    "- `hum_weeklyMax`: max of `Relative humidity [%]`\n",
    "- `hum_weeklyMean`: mean of `Relative humidity [%]`\n",
    "\n",
    "\n",
    "- `wind_weeklyMean`: mean of `Wind speed  [m/s]`\n",
    "- `wind_weeklyMax`: max of `Wind speed  [m/s]`\n",
    "- `gust_weeklyMax`: max of `Wind gust  [m/s]`\n",
    "\n",
    "\n",
    "**Note:** You can create more aggregation columns (for extra points), as depending on selected algorithm, other features might be more informative for prediction.\n",
    "\n",
    "**Note2:** Attentive data scientists might have noticed a problem with isocalendars when aggregating on `Year` and `Week`. You can ignore this for the purpose of this lecture. In real-world settings you might consider addressing this issue, depending on your task and data"
   ]
  },
  {
   "cell_type": "code",
   "execution_count": 32,
   "metadata": {
    "deletable": false,
    "hidden": true,
    "nbgrader": {
     "cell_type": "code",
     "checksum": "77d85a90e0d7e7e15f89ecfd49359745",
     "grade": true,
     "grade_id": "cell-554e4bae13ebe817",
     "locked": false,
     "points": 3,
     "schema_version": 3,
     "solution": true,
     "task": false
    }
   },
   "outputs": [],
   "source": [
    "def aggregate_weekly(data):\n",
    "    \"\"\" \n",
    "    Parameters\n",
    "    --------\n",
    "    data: weather data frame\n",
    "    \n",
    "    Returns\n",
    "    --------\n",
    "    weekly_stats: data frame that contains statistics aggregated on a weekly basis\n",
    "    \"\"\"\n",
    "    weekly_weather_data = pd.DataFrame()\n",
    "    \n",
    "    weekly_weather_data = data.groupby(level=[\"Year\",\"Week\"]).agg(\n",
    "    temp_weeklyMin=pd.NamedAgg(column=\"Air Temperature [°C]\", aggfunc='min'),\n",
    "    temp_weeklyMax=pd.NamedAgg(column=\"Air Temperature [°C]\", aggfunc='max'),\n",
    "    temp_weeklyMean=pd.NamedAgg(column=\"Air Temperature [°C]\", aggfunc=np.mean),\n",
    "    temp_weeklyMedian=pd.NamedAgg(column=\"Air Temperature [°C]\", aggfunc=np.median),\n",
    "        \n",
    "    precip_weeklyMin=pd.NamedAgg(column=\"Precipitation past 6 hours [mm]\", aggfunc='min'),\n",
    "    precip_weeklyMax=pd.NamedAgg(column=\"Precipitation past 6 hours [mm]\", aggfunc='max'),\n",
    "    precip_weeklyMean=pd.NamedAgg(column=\"Precipitation past 6 hours [mm]\", aggfunc=np.mean),\n",
    "        \n",
    "    hum_weeklyMin=pd.NamedAgg(column=\"Relative humidity [%]\", aggfunc='min'),\n",
    "    hum_weeklyMax=pd.NamedAgg(column=\"Relative humidity [%]\", aggfunc='max'),\n",
    "    hum_weeklyMean=pd.NamedAgg(column=\"Relative humidity [%]\", aggfunc=np.mean),\n",
    "        \n",
    "    wind_weeklyMean=pd.NamedAgg(column=\"Wind speed  [m/s]\", aggfunc=np.mean),\n",
    "    wind_weeklyMax=pd.NamedAgg(column=\"Wind speed  [m/s]\", aggfunc='max'),\n",
    "        \n",
    "    gust_weeklyMax=pd.NamedAgg(column=\"Wind gust  [m/s]\", aggfunc='max'),\n",
    "    )\n",
    "    \n",
    "    weekly_weather_data = weekly_weather_data.reset_index()\n",
    "    weekly_weather_data.set_index([\"Year\",\"Week\"], inplace = True)\n",
    "    \n",
    "    return weekly_weather_data\n",
    "\n",
    "data_weather_weekly = aggregate_weekly(data_weather_cleaned)"
   ]
  },
  {
   "cell_type": "code",
   "execution_count": 33,
   "metadata": {
    "deletable": false,
    "editable": false,
    "nbgrader": {
     "cell_type": "code",
     "checksum": "b3d8c4563f4071ec2b0bc9cf5687c171",
     "grade": true,
     "grade_id": "cell-1bb242d2e3145f33",
     "locked": true,
     "points": 2,
     "schema_version": 3,
     "solution": false,
     "task": false
    }
   },
   "outputs": [],
   "source": [
    "# hidden tests"
   ]
  },
  {
   "cell_type": "markdown",
   "metadata": {
    "deletable": false,
    "editable": false,
    "heading_collapsed": true,
    "nbgrader": {
     "cell_type": "markdown",
     "checksum": "a584d7c6016cc4782967c26b822460b5",
     "grade": false,
     "grade_id": "cell-133db7b4fddd1ed8",
     "locked": true,
     "schema_version": 3,
     "solution": false,
     "task": false
    }
   },
   "source": [
    "## Task 5: Merge influenza and weather datasets\n",
    "Total number of points for completing this task: **5**"
   ]
  },
  {
   "cell_type": "markdown",
   "metadata": {
    "deletable": false,
    "editable": false,
    "hidden": true,
    "nbgrader": {
     "cell_type": "markdown",
     "checksum": "bb0ce609646ae665499e9fd5d8848c50",
     "grade": false,
     "grade_id": "cell-efae094388f82dbb",
     "locked": true,
     "schema_version": 3,
     "solution": false,
     "task": false
    },
    "tags": []
   },
   "source": [
    "Merge the `data_weather_weekly` and `data_influenza` datasets. Beware that both datasets contain rows that do not appear in the other dataset."
   ]
  },
  {
   "cell_type": "code",
   "execution_count": 34,
   "metadata": {
    "deletable": false,
    "hidden": true,
    "nbgrader": {
     "cell_type": "code",
     "checksum": "0391e6471d569fd06c70b7fe9563dc6d",
     "grade": true,
     "grade_id": "cell-9b5da141670f159c",
     "locked": false,
     "points": 2,
     "schema_version": 3,
     "solution": true,
     "task": false
    }
   },
   "outputs": [],
   "source": [
    "def merge_data(weather_df, influenza_df):\n",
    "    \"\"\" \n",
    "    Parameters\n",
    "    --------\n",
    "    weather_df: weekly weather data frame\n",
    "    influenza_df: influenza data frame\n",
    "    \n",
    "    Returns\n",
    "    --------\n",
    "    merged_data: merged data frame that contains both weekly weather observations and prevalence of influence infections\n",
    "    \"\"\"\n",
    "\n",
    "    df1 = weather_df.reset_index()\n",
    "    df2 = influenza_df.reset_index()\n",
    "    df1['Week']=df1['Week'].astype(int)\n",
    "    df2['week']=df2['week'].astype(int)\n",
    "    df1['Year']=df1['Year'].astype(int)\n",
    "    df2['year']=df2['year'].astype(int)\n",
    "    merged_data = pd.merge(df1, df2, left_on=[\"Year\",\"Week\"], right_on=[\"year\",\"week\"])\n",
    "    merged_data.set_index([\"Year\",\"Week\"], inplace = True)\n",
    "    merged_data = merged_data.drop([\"year\",\"week\",\"level_0\"], axis=1)\n",
    "    merged_data[[\"gust_weeklyMax\"]] = merged_data[[\"gust_weeklyMax\"]].astype(int)\n",
    "    \n",
    "    \n",
    "    return merged_data\n",
    "\n",
    "data_merged = merge_data(data_weather_weekly, data_influenza)"
   ]
  },
  {
   "cell_type": "code",
   "execution_count": 35,
   "metadata": {},
   "outputs": [
    {
     "data": {
      "text/html": [
       "<div>\n",
       "<style scoped>\n",
       "    .dataframe tbody tr th:only-of-type {\n",
       "        vertical-align: middle;\n",
       "    }\n",
       "\n",
       "    .dataframe tbody tr th {\n",
       "        vertical-align: top;\n",
       "    }\n",
       "\n",
       "    .dataframe thead th {\n",
       "        text-align: right;\n",
       "    }\n",
       "</style>\n",
       "<table border=\"1\" class=\"dataframe\">\n",
       "  <thead>\n",
       "    <tr style=\"text-align: right;\">\n",
       "      <th></th>\n",
       "      <th></th>\n",
       "      <th>temp_weeklyMin</th>\n",
       "      <th>temp_weeklyMax</th>\n",
       "      <th>temp_weeklyMean</th>\n",
       "      <th>temp_weeklyMedian</th>\n",
       "      <th>precip_weeklyMin</th>\n",
       "      <th>precip_weeklyMax</th>\n",
       "      <th>precip_weeklyMean</th>\n",
       "      <th>hum_weeklyMin</th>\n",
       "      <th>hum_weeklyMax</th>\n",
       "      <th>hum_weeklyMean</th>\n",
       "      <th>wind_weeklyMean</th>\n",
       "      <th>wind_weeklyMax</th>\n",
       "      <th>gust_weeklyMax</th>\n",
       "      <th>influenza_cases</th>\n",
       "      <th>month</th>\n",
       "    </tr>\n",
       "    <tr>\n",
       "      <th>Year</th>\n",
       "      <th>Week</th>\n",
       "      <th></th>\n",
       "      <th></th>\n",
       "      <th></th>\n",
       "      <th></th>\n",
       "      <th></th>\n",
       "      <th></th>\n",
       "      <th></th>\n",
       "      <th></th>\n",
       "      <th></th>\n",
       "      <th></th>\n",
       "      <th></th>\n",
       "      <th></th>\n",
       "      <th></th>\n",
       "      <th></th>\n",
       "      <th></th>\n",
       "    </tr>\n",
       "  </thead>\n",
       "  <tbody>\n",
       "    <tr>\n",
       "      <th rowspan=\"5\" valign=\"top\">2010</th>\n",
       "      <th>37</th>\n",
       "      <td>4.1</td>\n",
       "      <td>16.9</td>\n",
       "      <td>11.911951</td>\n",
       "      <td>12.50</td>\n",
       "      <td>0.0</td>\n",
       "      <td>3.3</td>\n",
       "      <td>0.083537</td>\n",
       "      <td>57.0</td>\n",
       "      <td>99.0</td>\n",
       "      <td>84.006664</td>\n",
       "      <td>3.701220</td>\n",
       "      <td>11</td>\n",
       "      <td>19</td>\n",
       "      <td>16.0</td>\n",
       "      <td>9</td>\n",
       "    </tr>\n",
       "    <tr>\n",
       "      <th>38</th>\n",
       "      <td>3.4</td>\n",
       "      <td>22.9</td>\n",
       "      <td>13.857298</td>\n",
       "      <td>13.90</td>\n",
       "      <td>0.0</td>\n",
       "      <td>0.0</td>\n",
       "      <td>0.000000</td>\n",
       "      <td>40.0</td>\n",
       "      <td>100.0</td>\n",
       "      <td>75.593635</td>\n",
       "      <td>3.421687</td>\n",
       "      <td>7</td>\n",
       "      <td>10</td>\n",
       "      <td>125.0</td>\n",
       "      <td>9</td>\n",
       "    </tr>\n",
       "    <tr>\n",
       "      <th>39</th>\n",
       "      <td>3.9</td>\n",
       "      <td>16.1</td>\n",
       "      <td>8.335990</td>\n",
       "      <td>7.90</td>\n",
       "      <td>0.0</td>\n",
       "      <td>8.7</td>\n",
       "      <td>0.195181</td>\n",
       "      <td>53.0</td>\n",
       "      <td>98.0</td>\n",
       "      <td>90.085903</td>\n",
       "      <td>3.855422</td>\n",
       "      <td>8</td>\n",
       "      <td>9</td>\n",
       "      <td>192.0</td>\n",
       "      <td>9</td>\n",
       "    </tr>\n",
       "    <tr>\n",
       "      <th>40</th>\n",
       "      <td>-2.7</td>\n",
       "      <td>14.9</td>\n",
       "      <td>6.620788</td>\n",
       "      <td>6.30</td>\n",
       "      <td>0.0</td>\n",
       "      <td>0.0</td>\n",
       "      <td>0.000000</td>\n",
       "      <td>43.0</td>\n",
       "      <td>100.0</td>\n",
       "      <td>75.385542</td>\n",
       "      <td>5.168675</td>\n",
       "      <td>10</td>\n",
       "      <td>15</td>\n",
       "      <td>335.0</td>\n",
       "      <td>9</td>\n",
       "    </tr>\n",
       "    <tr>\n",
       "      <th>41</th>\n",
       "      <td>-3.4</td>\n",
       "      <td>10.3</td>\n",
       "      <td>4.203844</td>\n",
       "      <td>4.05</td>\n",
       "      <td>0.0</td>\n",
       "      <td>1.3</td>\n",
       "      <td>0.010241</td>\n",
       "      <td>35.0</td>\n",
       "      <td>100.0</td>\n",
       "      <td>82.599356</td>\n",
       "      <td>2.475904</td>\n",
       "      <td>6</td>\n",
       "      <td>0</td>\n",
       "      <td>342.0</td>\n",
       "      <td>10</td>\n",
       "    </tr>\n",
       "  </tbody>\n",
       "</table>\n",
       "</div>"
      ],
      "text/plain": [
       "           temp_weeklyMin  temp_weeklyMax  temp_weeklyMean  temp_weeklyMedian  \\\n",
       "Year Week                                                                       \n",
       "2010 37               4.1            16.9        11.911951              12.50   \n",
       "     38               3.4            22.9        13.857298              13.90   \n",
       "     39               3.9            16.1         8.335990               7.90   \n",
       "     40              -2.7            14.9         6.620788               6.30   \n",
       "     41              -3.4            10.3         4.203844               4.05   \n",
       "\n",
       "           precip_weeklyMin  precip_weeklyMax  precip_weeklyMean  \\\n",
       "Year Week                                                          \n",
       "2010 37                 0.0               3.3           0.083537   \n",
       "     38                 0.0               0.0           0.000000   \n",
       "     39                 0.0               8.7           0.195181   \n",
       "     40                 0.0               0.0           0.000000   \n",
       "     41                 0.0               1.3           0.010241   \n",
       "\n",
       "           hum_weeklyMin  hum_weeklyMax  hum_weeklyMean  wind_weeklyMean  \\\n",
       "Year Week                                                                  \n",
       "2010 37             57.0           99.0       84.006664         3.701220   \n",
       "     38             40.0          100.0       75.593635         3.421687   \n",
       "     39             53.0           98.0       90.085903         3.855422   \n",
       "     40             43.0          100.0       75.385542         5.168675   \n",
       "     41             35.0          100.0       82.599356         2.475904   \n",
       "\n",
       "           wind_weeklyMax  gust_weeklyMax  influenza_cases  month  \n",
       "Year Week                                                          \n",
       "2010 37                11              19             16.0      9  \n",
       "     38                 7              10            125.0      9  \n",
       "     39                 8               9            192.0      9  \n",
       "     40                10              15            335.0      9  \n",
       "     41                 6               0            342.0     10  "
      ]
     },
     "execution_count": 35,
     "metadata": {},
     "output_type": "execute_result"
    }
   ],
   "source": [
    "data_merged.head()"
   ]
  },
  {
   "cell_type": "code",
   "execution_count": 36,
   "metadata": {
    "deletable": false,
    "editable": false,
    "nbgrader": {
     "cell_type": "code",
     "checksum": "2d9c8b64d6c64d283d98142d10f5dd6f",
     "grade": true,
     "grade_id": "cell-8ded8cc4a3d0d6ae",
     "locked": true,
     "points": 3,
     "schema_version": 3,
     "solution": false,
     "task": false
    }
   },
   "outputs": [],
   "source": [
    "# hidden tests"
   ]
  },
  {
   "cell_type": "markdown",
   "metadata": {
    "deletable": false,
    "editable": false,
    "nbgrader": {
     "cell_type": "markdown",
     "checksum": "55c2fc206f0cdd6b11e7dbdb0ef1b30f",
     "grade": false,
     "grade_id": "cell-09147ec61a636841",
     "locked": true,
     "schema_version": 3,
     "solution": false,
     "task": false
    }
   },
   "source": [
    "## Processed and merged data: shortcut for Tasks 6-8\n",
    "\n",
    "If you encounter problems with the first five tasks, you can uncomment and use the following code to load pickled `DataFrame` containing already merged and preprocessed weather and influenza datasets. You can use this data to complete tasks 6-8. "
   ]
  },
  {
   "cell_type": "code",
   "execution_count": 37,
   "metadata": {},
   "outputs": [],
   "source": [
    "# import pickle\n",
    "\n",
    "# with open(\"data/data_merged.pickle\",\"rb\") as fp:\n",
    "#     data_merged = pickle.load(fp)"
   ]
  },
  {
   "cell_type": "markdown",
   "metadata": {
    "deletable": false,
    "editable": false,
    "heading_collapsed": true,
    "nbgrader": {
     "cell_type": "markdown",
     "checksum": "fbcd2960b9548f776fa1ed11e03b3b71",
     "grade": false,
     "grade_id": "cell-548ced5ba28ffd1d",
     "locked": true,
     "schema_version": 3,
     "solution": false,
     "task": false
    }
   },
   "source": [
    "## Task 6: Visualization\n",
    "Total number of points for completing this task: **15**"
   ]
  },
  {
   "cell_type": "markdown",
   "metadata": {
    "deletable": false,
    "editable": false,
    "hidden": true,
    "nbgrader": {
     "cell_type": "markdown",
     "checksum": "afd49d33e8acd1c6c563afbc5737d119",
     "grade": false,
     "grade_id": "cell-81213eee34f51f1e",
     "locked": true,
     "schema_version": 3,
     "solution": false,
     "task": false
    }
   },
   "source": [
    "To better understand the dataset, create visualisations of the merged data using `matplotlib` that help explore potential relationships between the variables before developing a model.\n",
    "\n",
    "\n",
    "**Note:** Hand in multiple figures. Use a proper naming configuration for the image files. Your plots should present information clearly (i.e. include titles, axis labels, legends,.. -> http://imgs.xkcd.com/comics/convincing.png). You should also describe which insights you gained from the figures.\n",
    "\n",
    "**Note 2:** Choice of a proper chart type is essential. Points might be subtracted when using inappropriate plots and descriptions, so please *do not* just use all possible plotting functions from `matplotlib` without understanding and justification.\n",
    "\n",
    "**Note 3:** You can also use `pandas` and `seaborn` python packages to create the plots."
   ]
  },
  {
   "cell_type": "markdown",
   "metadata": {},
   "source": [
    "#### First I took a look at the correlation heatmap where it is possible to see which variables correlate the most. From this plot I see that temperatures and month have highest negative correlation with influenza cases. This could lead to our variables of interest."
   ]
  },
  {
   "cell_type": "code",
   "execution_count": 38,
   "metadata": {
    "deletable": false,
    "hidden": true,
    "nbgrader": {
     "cell_type": "code",
     "checksum": "555b753da1126add2a162366ccc2156d",
     "grade": true,
     "grade_id": "cell-b2dee2cc5769f19d",
     "locked": false,
     "points": 8,
     "schema_version": 3,
     "solution": true,
     "task": false
    }
   },
   "outputs": [
    {
     "data": {
      "text/plain": [
       "Text(0.5, 1.0, 'Correlation heatmap')"
      ]
     },
     "execution_count": 38,
     "metadata": {},
     "output_type": "execute_result"
    },
    {
     "data": {
      "image/png": "[encoded data removed]",
      "text/plain": [
       "<Figure size 432x288 with 2 Axes>"
      ]
     },
     "metadata": {
      "needs_background": "light"
     },
     "output_type": "display_data"
    }
   ],
   "source": [
    "sns.heatmap(data_merged.corr());\n",
    "plt.title(\"Correlation heatmap\")"
   ]
  },
  {
   "cell_type": "markdown",
   "metadata": {},
   "source": [
    "#### Then I took a look at the relations between the influenza cases and temperatures. From the plots we see that no strong linear relationship exists. The situation does not get better after applying log transformation on the influenza cases. Temperatures are combined into plots by two because of conveniance and producing less plots."
   ]
  },
  {
   "cell_type": "code",
   "execution_count": 39,
   "metadata": {},
   "outputs": [
    {
     "data": {
      "text/plain": [
       "Text(0.5, 1.0, 'Influenza cases relation with temp_weeklyMin and temp_weeklyMax')"
      ]
     },
     "execution_count": 39,
     "metadata": {},
     "output_type": "execute_result"
    },
    {
     "data": {
      "image/png": "[encoded data removed]",
      "text/plain": [
       "<Figure size 432x288 with 1 Axes>"
      ]
     },
     "metadata": {
      "needs_background": "light"
     },
     "output_type": "display_data"
    }
   ],
   "source": [
    "plt1 = data_merged.reset_index().plot.scatter(x=\"temp_weeklyMin\",y=\"influenza_cases\",color='r')\n",
    "plt2 = data_merged.reset_index().plot.scatter(x=\"temp_weeklyMax\",y=\"influenza_cases\",color='g',ax=plt1)\n",
    "plt.title(\"Influenza cases relation with temp_weeklyMin and temp_weeklyMax\")"
   ]
  },
  {
   "cell_type": "code",
   "execution_count": 40,
   "metadata": {},
   "outputs": [
    {
     "data": {
      "text/plain": [
       "Text(0.5, 1.0, 'Influenza cases relation with temp_weeklyMean and temp_weeklyMedian')"
      ]
     },
     "execution_count": 40,
     "metadata": {},
     "output_type": "execute_result"
    },
    {
     "data": {
      "image/png": "[encoded data removed]",
      "text/plain": [
       "<Figure size 432x288 with 1 Axes>"
      ]
     },
     "metadata": {
      "needs_background": "light"
     },
     "output_type": "display_data"
    }
   ],
   "source": [
    "plt3 = data_merged.reset_index().plot.scatter(x=\"temp_weeklyMean\",y=\"influenza_cases\",color='b')\n",
    "plt4 = data_merged.reset_index().plot.scatter(x=\"temp_weeklyMedian\",y=\"influenza_cases\",color='y',ax=plt3)\n",
    "plt.title(\"Influenza cases relation with temp_weeklyMean and temp_weeklyMedian\")"
   ]
  },
  {
   "cell_type": "code",
   "execution_count": 41,
   "metadata": {},
   "outputs": [
    {
     "data": {
      "text/plain": [
       "Text(0.5, 1.0, 'Influenza cases log transformed relation with temp_weeklyMean')"
      ]
     },
     "execution_count": 41,
     "metadata": {},
     "output_type": "execute_result"
    },
    {
     "data": {
      "image/png": "[encoded data removed]",
      "text/plain": [
       "<Figure size 432x288 with 1 Axes>"
      ]
     },
     "metadata": {
      "needs_background": "light"
     },
     "output_type": "display_data"
    }
   ],
   "source": [
    "plt5 = plt.scatter(data_merged[\"temp_weeklyMean\"], np.log(data_merged[\"influenza_cases\"]),color='b')\n",
    "plt.xlabel(\"Year temp_weeklyMean month\")\n",
    "plt.ylabel(\"log(influenza_cases)\")\n",
    "plt.title(\"Influenza cases log transformed relation with temp_weeklyMean\")"
   ]
  },
  {
   "cell_type": "code",
   "execution_count": 42,
   "metadata": {},
   "outputs": [
    {
     "data": {
      "text/plain": [
       "Text(0.5, 1.0, 'Influenza cases of the first 4 months of each year')"
      ]
     },
     "execution_count": 42,
     "metadata": {},
     "output_type": "execute_result"
    },
    {
     "data": {
      "image/png": "[encoded data removed]",
      "text/plain": [
       "<Figure size 1080x144 with 1 Axes>"
      ]
     },
     "metadata": {
      "needs_background": "light"
     },
     "output_type": "display_data"
    }
   ],
   "source": [
    "fig = plt.figure(figsize=(15, 2))\n",
    "data_merged_tmp = data_merged[data_merged[\"month\"].isin([1,2,3,4])]\n",
    "pltz = data_merged_tmp.reset_index().groupby([\"Year\",\"month\"])[\"influenza_cases\"].sum().plot.bar()\n",
    "pltz.set_xlabel(\"Year and month\")\n",
    "pltz.set_ylabel(\"Influenza cases\")\n",
    "plt.title(\"Influenza cases of the first 4 months of each year\")"
   ]
  },
  {
   "cell_type": "code",
   "execution_count": 43,
   "metadata": {
    "deletable": false,
    "editable": false,
    "nbgrader": {
     "cell_type": "code",
     "checksum": "86c59beb4cfdee812a236b2c854d836e",
     "grade": true,
     "grade_id": "cell-21627cd715a7045c",
     "locked": true,
     "points": 0,
     "schema_version": 3,
     "solution": false,
     "task": false
    }
   },
   "outputs": [],
   "source": [
    "# hidden tests"
   ]
  },
  {
   "cell_type": "markdown",
   "metadata": {
    "deletable": false,
    "editable": false,
    "nbgrader": {
     "cell_type": "markdown",
     "checksum": "92622e9ca23c5e4cd58596b0cb1a2b43",
     "grade": false,
     "grade_id": "cell-a792fb605f775fba",
     "locked": true,
     "schema_version": 3,
     "solution": false,
     "task": false
    }
   },
   "source": [
    "#### Findings \n",
    "Summarize your findings."
   ]
  },
  {
   "cell_type": "markdown",
   "metadata": {
    "deletable": false,
    "nbgrader": {
     "cell_type": "markdown",
     "checksum": "7a987d4f7aa0ba4f4bd6bde143ebd0d0",
     "grade": true,
     "grade_id": "cell-6773c3a4096a7ede",
     "locked": false,
     "points": 7,
     "schema_version": 3,
     "solution": true,
     "task": false
    }
   },
   "source": [
    "As there is no strong linear relationship between the variables of interest the algorithm of my choice would be Logistic Regression. The last plot is of interest for later comparison when the prediction for the first 4 months of 2021 will be done."
   ]
  },
  {
   "cell_type": "markdown",
   "metadata": {
    "deletable": false,
    "editable": false,
    "heading_collapsed": true,
    "nbgrader": {
     "cell_type": "markdown",
     "checksum": "7480917bf65be247a7ef6f73dee5d724",
     "grade": false,
     "grade_id": "cell-428d31b03a35afc4",
     "locked": true,
     "schema_version": 3,
     "solution": false,
     "task": false
    },
    "tags": []
   },
   "source": [
    "## Task 7: Influenza prediction model \n",
    "Total number of points for completing this task: **20**\n"
   ]
  },
  {
   "cell_type": "markdown",
   "metadata": {
    "deletable": false,
    "editable": false,
    "hidden": true,
    "nbgrader": {
     "cell_type": "markdown",
     "checksum": "b13403a2ea6c528bdf9fd0e1d2d7be18",
     "grade": false,
     "grade_id": "cell-c1cc534f001d58c8",
     "locked": true,
     "schema_version": 3,
     "solution": false,
     "task": false
    }
   },
   "source": [
    "Build and train a model using weather and influenza data from 2010 until 2020 using `scikit-learn`.\n",
    "\n",
    "Please structure and document your code so that it is easy to follow.\n",
    "\n",
    " - Choose appropriate machine learning algorithm(s) for the problem at hand\n",
    " - Experiment with different features and feature selection methods\n",
    " - Make sure your results are reproducible\n",
    " - Don't hesitate to go back to previous steps if you notice any data quality issues\n",
    " - If your chosen algorithm has specific parameters, explore their effect with different settings using 10-fold cross-validation\n",
    " - Experiment with different training/test splits\n",
    " - If appropriate, try different scaling approaches (min/max, z-score,..).\n",
    " - Present your results (e.g. by plotting predicted against true values)\n",
    " \n",
    " \n",
    " - How good does your model fit when you evaluate it with the validation data set?"
   ]
  },
  {
   "cell_type": "markdown",
   "metadata": {},
   "source": [
    "First we choose the model which is Logistic Regression."
   ]
  },
  {
   "cell_type": "markdown",
   "metadata": {},
   "source": [
    "Then we define a function for the feature selection from scikit which is SelectKBest."
   ]
  },
  {
   "cell_type": "code",
   "execution_count": 44,
   "metadata": {},
   "outputs": [],
   "source": [
    "def select_K_best_features(X_train,y_train):\n",
    "    k_selector = SelectKBest(f_regression, k=\"all\")\n",
    "    k_selector = k_selector.fit(X_train, y_train)\n",
    "    return k_selector"
   ]
  },
  {
   "cell_type": "markdown",
   "metadata": {},
   "source": [
    "Then feature selection is applied on splitted data and from retrieved scores I chose top 3 variables as it provided the best R^2 score."
   ]
  },
  {
   "cell_type": "code",
   "execution_count": 45,
   "metadata": {
    "deletable": false,
    "hidden": true,
    "nbgrader": {
     "cell_type": "code",
     "checksum": "ab750505e5466f4e1c3bc5570a6e2c0e",
     "grade": true,
     "grade_id": "cell-907be24a9572ebdf",
     "locked": false,
     "points": 14,
     "schema_version": 3,
     "solution": true,
     "task": false
    }
   },
   "outputs": [
    {
     "name": "stderr",
     "output_type": "stream",
     "text": [
      "/opt/conda/lib/python3.9/site-packages/sklearn/feature_selection/_univariate_selection.py:289: RuntimeWarning: invalid value encountered in true_divide\n",
      "  correlation_coefficient /= X_norms\n"
     ]
    },
    {
     "data": {
      "text/plain": [
       "array([41.60102333, 55.15261001, 61.10441413, 59.49629868,         nan,\n",
       "        4.14005925,  1.41572154,  2.76577896, 13.451771  ,  0.67968712,\n",
       "        0.23969481,  0.14118716,  0.38593953, 63.42870368])"
      ]
     },
     "execution_count": 45,
     "metadata": {},
     "output_type": "execute_result"
    }
   ],
   "source": [
    "targets = data_merged.loc[:,\"influenza_cases\"]\n",
    "features = data_merged.loc[:, data_merged.columns != \"influenza_cases\"]\n",
    "\n",
    "X_train, X_test, y_train, y_test = train_test_split(\n",
    "    features, targets, test_size=0.3,  random_state=42)\n",
    "\n",
    "k_selector = select_K_best_features(X_train,y_train)\n",
    "\n",
    "k_selector.scores_"
   ]
  },
  {
   "cell_type": "code",
   "execution_count": 46,
   "metadata": {},
   "outputs": [
    {
     "name": "stderr",
     "output_type": "stream",
     "text": [
      "/opt/conda/lib/python3.9/site-packages/sklearn/feature_selection/_univariate_selection.py:289: RuntimeWarning: invalid value encountered in true_divide\n",
      "  correlation_coefficient /= X_norms\n",
      "/opt/conda/lib/python3.9/site-packages/sklearn/feature_selection/_univariate_selection.py:289: RuntimeWarning: invalid value encountered in true_divide\n",
      "  correlation_coefficient /= X_norms\n"
     ]
    }
   ],
   "source": [
    "k_selector = SelectKBest(f_regression, k=3)\n",
    "k_selector = k_selector.fit(X_train, y_train)\n",
    "X_train_new = k_selector.fit_transform(X_train, y_train)"
   ]
  },
  {
   "cell_type": "code",
   "execution_count": 47,
   "metadata": {},
   "outputs": [
    {
     "name": "stderr",
     "output_type": "stream",
     "text": [
      "/opt/conda/lib/python3.9/site-packages/sklearn/linear_model/_logistic.py:814: ConvergenceWarning: lbfgs failed to converge (status=1):\n",
      "STOP: TOTAL NO. of ITERATIONS REACHED LIMIT.\n",
      "\n",
      "Increase the number of iterations (max_iter) or scale the data as shown in:\n",
      "    https://scikit-learn.org/stable/modules/preprocessing.html\n",
      "Please also refer to the documentation for alternative solver options:\n",
      "    https://scikit-learn.org/stable/modules/linear_model.html#logistic-regression\n",
      "  n_iter_i = _check_optimize_result(\n",
      "/opt/conda/lib/python3.9/site-packages/sklearn/base.py:434: UserWarning: X has feature names, but LogisticRegression was fitted without feature names\n",
      "  warnings.warn(\n"
     ]
    }
   ],
   "source": [
    "model = LogisticRegression(random_state=42).fit(X_train_new, y_train)\n",
    "y_pred = model.predict(X_test[X_test.columns[k_selector.get_support()]])"
   ]
  },
  {
   "cell_type": "code",
   "execution_count": 48,
   "metadata": {},
   "outputs": [
    {
     "name": "stdout",
     "output_type": "stream",
     "text": [
      "MSE 14484149.366336634\n",
      "R^2 0.23303810810763625\n"
     ]
    },
    {
     "data": {
      "image/png": "[encoded data removed]",
      "text/plain": [
       "<Figure size 432x288 with 1 Axes>"
      ]
     },
     "metadata": {
      "needs_background": "light"
     },
     "output_type": "display_data"
    }
   ],
   "source": [
    "plt.scatter(y_test, y_pred)\n",
    "plt.xlabel(\"Actual\")\n",
    "plt.ylabel(\"Predicted\")\n",
    "plt.title(\"Predicted vs Actual\")\n",
    "plt.plot(plt.xlim(), plt.ylim(), ls=\"--\", c=\"red\")\n",
    "\n",
    "print(\"MSE\",mean_squared_error(y_test.to_numpy(), y_pred))\n",
    "print(\"R^2\",r2_score(y_test.to_numpy(), y_pred))"
   ]
  },
  {
   "cell_type": "markdown",
   "metadata": {
    "deletable": false,
    "editable": false,
    "hidden": true,
    "nbgrader": {
     "cell_type": "markdown",
     "checksum": "33820099efddb08c7ee924935008800e",
     "grade": false,
     "grade_id": "cell-fbde64b84f18c30d",
     "locked": true,
     "schema_version": 3,
     "solution": false,
     "task": false
    }
   },
   "source": [
    "#### Approach and algorithm\n",
    "Motivate your approach and choice of algorithm in the cell below"
   ]
  },
  {
   "cell_type": "markdown",
   "metadata": {
    "deletable": false,
    "hidden": true,
    "nbgrader": {
     "cell_type": "markdown",
     "checksum": "44485bf8902e463c978f88a2cabdacd1",
     "grade": true,
     "grade_id": "cell-47e2d2e152925e2d",
     "locked": false,
     "points": 6,
     "schema_version": 3,
     "solution": true,
     "task": false
    }
   },
   "source": [
    "Based on the previous visualizations I chose the Logistic Regression algorithm as there were no strong linear relationships between the most correlated variables and Logistic Regression also provided the best result comparing to Lasso and Decision Tree. I fitted it on the 3 most important variables based on scores which were retrevied from f_regressor used with SelectKBest from scikit library as they provided the best results. Achieved MSE and R^2 values are not good. "
   ]
  },
  {
   "cell_type": "markdown",
   "metadata": {},
   "source": [
    "## Task 8: Test model on last weeks of 2020/2021 season\n",
    "Total number of points for completing this task: **10**\n",
    "\n",
    "Load weather data for corresponding `Station code` for <span style=\"color:red\">January-April 2021</span> from `data/prediction/` and test the quality of your model with `data_influenza`.\n",
    "\n",
    "\n",
    "**Note:** This data is encoded with 'Central European (Windows 1250)' encoding."
   ]
  },
  {
   "cell_type": "code",
   "execution_count": 49,
   "metadata": {
    "deletable": false,
    "nbgrader": {
     "cell_type": "code",
     "checksum": "35677e38e03167f3f8edb709d7c18897",
     "grade": true,
     "grade_id": "cell-0d3520c662d4040b",
     "locked": false,
     "points": 6,
     "schema_version": 3,
     "solution": true,
     "task": false
    }
   },
   "outputs": [
    {
     "name": "stderr",
     "output_type": "stream",
     "text": [
      "/opt/conda/lib/python3.9/site-packages/IPython/core/interactiveshell.py:3444: DtypeWarning: Columns (34) have mixed types.Specify dtype option on import or set low_memory=False.\n",
      "  exec(code_obj, self.user_global_ns, self.user_ns)\n",
      "/opt/conda/lib/python3.9/site-packages/IPython/core/interactiveshell.py:3444: DtypeWarning: Columns (6,34,56) have mixed types.Specify dtype option on import or set low_memory=False.\n",
      "  exec(code_obj, self.user_global_ns, self.user_ns)\n"
     ]
    },
    {
     "name": "stdout",
     "output_type": "stream",
     "text": [
      "MSE 13365731.9375\n",
      "R^2 -18.612154947325685\n"
     ]
    },
    {
     "name": "stderr",
     "output_type": "stream",
     "text": [
      "/opt/conda/lib/python3.9/site-packages/sklearn/feature_selection/_univariate_selection.py:289: RuntimeWarning: invalid value encountered in true_divide\n",
      "  correlation_coefficient /= X_norms\n",
      "/opt/conda/lib/python3.9/site-packages/sklearn/base.py:434: UserWarning: X has feature names, but LogisticRegression was fitted without feature names\n",
      "  warnings.warn(\n"
     ]
    },
    {
     "data": {
      "image/png": "[encoded data removed]",
      "text/plain": [
       "<Figure size 432x288 with 1 Axes>"
      ]
     },
     "metadata": {
      "needs_background": "light"
     },
     "output_type": "display_data"
    }
   ],
   "source": [
    "# Creating an empty list to store separate dataframes of each .csv file\n",
    "test_dataframes_list = []\n",
    "    \n",
    "# Creating a list of csv file names for later usage when reading in the files themselves\n",
    "test_files_names_list = [x for x in os.listdir('data/prediction/') if x.endswith('.zip')]\n",
    "    \n",
    "#Reading in column names\n",
    "with open('data/weather/names.txt') as f:\n",
    "    column_names = f.readlines()\n",
    "    \n",
    "#Stripping column names of trailing newlines('\\n')\n",
    "column_names =[x.rstrip() for x in column_names]\n",
    "\n",
    "#Creating dataframe list with defined columns\n",
    "for i in range(len(test_files_names_list)):\n",
    "    tmp_df = pd.read_csv(\"data/prediction/\" + test_files_names_list[i],names=column_names,encoding='cp1250')\n",
    "    mask = ((tmp_df[\"Station code\"]== 351190465) & (tmp_df[\"Month\"].isin([1,2,3,4])))\n",
    "    test_dataframes_list.append(tmp_df[mask])\n",
    "\n",
    "#Concatinating a list of dataframes\n",
    "test_data = pd.concat(test_dataframes_list)\n",
    "\n",
    "#Adding Date and Week columns\n",
    "test_data[\"Date\"] = pd.to_datetime(test_data[[\"Year\",\"Month\",\"Day\",\"Hour\"]])\n",
    "test_data[\"Week\"] = test_data['Date'].dt.isocalendar().week\n",
    "       \n",
    "#Creating MultiIndex from Year - Month - Week - Day - Hour columns ???labels\n",
    "test_data.set_index([\"Year\",\"Month\",\"Week\",\"Day\",\"Hour\"], inplace = True,append = True)\n",
    "                \n",
    "test_data = handle_missingValues_simple(test_data)\n",
    "\n",
    "test_data = handle_outliers(test_data)\n",
    "\n",
    "test_data = aggregate_weekly(test_data)\n",
    "\n",
    "test_data = merge_data(test_data,data_influenza)\n",
    "\n",
    "features_test = test_data.loc[:,test_data.columns != \"influenza_cases\"]\n",
    "targets_test = test_data.loc[:,\"influenza_cases\"]\n",
    "\n",
    "selector = SelectKBest(f_regression, k=3)\n",
    "selector = selector.fit(features_test, targets_test)\n",
    "#test_data.head()\n",
    "features_test[features_test.columns[selector.get_support()]]\n",
    "y_test_pred = model.predict(features_test[[\"month\",\"temp_weeklyMean\",\"temp_weeklyMedian\"]])\n",
    "\n",
    "\n",
    "plt.scatter(targets_test, y_test_pred)\n",
    "plt.xlabel(\"Actual\")\n",
    "plt.ylabel(\"Predicted\")\n",
    "plt.title(\"Predicted vs Actual\")\n",
    "plt.plot(plt.xlim(), plt.ylim(), ls=\"--\", c=\"red\")\n",
    "\n",
    "#features_test[features_test.columns[selector.get_supporty_test_pred\n",
    "print(\"MSE\",mean_squared_error(targets_test.to_numpy(), y_test_pred))\n",
    "print(\"R^2\",r2_score(targets_test.to_numpy(), y_test_pred))"
   ]
  },
  {
   "cell_type": "markdown",
   "metadata": {
    "deletable": false,
    "editable": false,
    "hidden": true,
    "nbgrader": {
     "cell_type": "markdown",
     "checksum": "ec6e036dffdcd57a0134f590dd9a3aba",
     "grade": false,
     "grade_id": "cell-840e1caf1a6cdddd",
     "locked": true,
     "schema_version": 3,
     "solution": false,
     "task": false
    }
   },
   "source": [
    "#### Findings \n",
    "Summarize your findings and lessons learned."
   ]
  },
  {
   "cell_type": "markdown",
   "metadata": {
    "deletable": false,
    "hidden": true,
    "nbgrader": {
     "cell_type": "markdown",
     "checksum": "0c2dd1d9d0c23b7b26dd8b74d446383e",
     "grade": true,
     "grade_id": "cell-48745fd0440c1380",
     "locked": false,
     "points": 4,
     "schema_version": 3,
     "solution": true,
     "task": false
    }
   },
   "source": [
    "As it is visable from the results plot, MSE and R^2 values, the model performed very poorly."
   ]
  }
 ],
 "metadata": {
  "hide_input": false,
  "kernelspec": {
   "display_name": "Python 3 (ipykernel)",
   "language": "python",
   "name": "python3"
  },
  "language_info": {
   "codemirror_mode": {
    "name": "ipython",
    "version": 3
   },
   "file_extension": ".py",
   "mimetype": "text/x-python",
   "name": "python",
   "nbconvert_exporter": "python",
   "pygments_lexer": "ipython3",
   "version": "3.9.7"
  }
 },
 "nbformat": 4,
 "nbformat_minor": 4
}
